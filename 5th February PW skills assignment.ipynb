{
 "cells": [
  {
   "cell_type": "markdown",
   "id": "4cccd8b1",
   "metadata": {},
   "source": [
    "## Q1. Explain Class and Object with respect to Object-Oriented Programming. Give a suitable example."
   ]
  },
  {
   "cell_type": "markdown",
   "id": "b5c664e0",
   "metadata": {},
   "source": [
    "Object-Oriented Programming (OOP) is a programming paradigm that is based on the concept of objects. Objects are instances of classes, which are user-defined data types that encapsulate data and functions (methods) that operate on that data.\n",
    "\n",
    "A class is a blueprint for creating objects, which defines the attributes (data) and behaviors (methods) that the objects of that class will possess. It is a template or a prototype for creating objects.\n",
    "\n",
    "An object is an instance of a class that is created at runtime, using the constructor of the class. Objects have their own state (data) and behavior (methods), which are defined by the class they belong to.\n",
    "\n",
    "For example, consider a class called \"Car\". The class would define the attributes of a car, such as its make, model, color, and year. It would also define the behaviors of a car, such as starting the engine, stopping the engine, accelerating, and braking.\n",
    "\n",
    "To create an object of the Car class, we would use the class constructor. For example:"
   ]
  },
  {
   "cell_type": "code",
   "execution_count": 7,
   "id": "29edac7e",
   "metadata": {},
   "outputs": [],
   "source": [
    "class Car:\n",
    "    def __init__(self, make, model, year):\n",
    "        self.make = make\n",
    "        self.model = model\n",
    "        self.year = year\n",
    "        self.odometer_reading = 0\n",
    "    \n",
    "    def get_descriptive_name(self):\n",
    "        long_name = f\"{self.year} {self.make} {self.model}\"\n",
    "        return long_name.title()\n",
    "\n",
    "    def read_odometer(self):\n",
    "        print(f\"This car has {self.odometer_reading} miles on it.\")\n",
    "\n",
    "    def update_odometer(self, mileage):\n",
    "        if mileage >= self.odometer_reading:\n",
    "            self.odometer_reading = mileage\n",
    "        else:\n",
    "            print(\"You can't roll back an odometer!\")\n",
    "\n",
    "    def increment_odometer(self, miles):\n",
    "        self.odometer_reading += miles\n",
    "\n"
   ]
  },
  {
   "cell_type": "code",
   "execution_count": 8,
   "id": "f1da920e",
   "metadata": {},
   "outputs": [],
   "source": [
    "my_car = Car('toyota', 'camry', 2022)\n"
   ]
  },
  {
   "cell_type": "code",
   "execution_count": 9,
   "id": "a4773283",
   "metadata": {},
   "outputs": [
    {
     "name": "stdout",
     "output_type": "stream",
     "text": [
      "2022 Toyota Camry\n",
      "This car has 5000 miles on it.\n"
     ]
    }
   ],
   "source": [
    "print(my_car.get_descriptive_name())  # prints '2022 Toyota Camry'\n",
    "my_car.update_odometer(5000)  # updates odometer reading to 5000\n",
    "my_car.read_odometer()  # prints 'This car has 5000 miles on it.'\n"
   ]
  },
  {
   "cell_type": "markdown",
   "id": "27c68adc",
   "metadata": {},
   "source": [
    "## Q2. Name the four pillars of OOPs."
   ]
  },
  {
   "cell_type": "markdown",
   "id": "e2e9b1d0",
   "metadata": {},
   "source": [
    "1.Encapsulation: Encapsulation is the process of binding the data (attributes) and methods (functions) that manipulate the data together in a single unit called a class. This enables the data to be hidden from the outside world and accessed only through the methods, which provides a higher level of security and prevents unwanted modification of the data.\n",
    "\n",
    "2.Abstraction: Abstraction is the process of hiding the implementation details of a class and exposing only the necessary information to the user. This makes it easier for the user to use the class without knowing how it works internally.\n",
    "\n",
    "3.Inheritance: Inheritance is the process by which one class acquires the properties and behavior of another class. The class that is inherited from is called the base class or parent class, and the class that inherits from it is called the derived class or child class. This allows us to reuse code and avoid duplication.\n",
    "\n",
    "4.Polymorphism: Polymorphism is the ability of an object to take on multiple forms. In OOP, it is achieved through method overloading and method overriding. Method overloading allows us to define multiple methods with the same name but different parameters, while method overriding allows us to redefine a method in a derived class that is already defined in the base class. This allows us to write more flexible and modular code.\n",
    "\n"
   ]
  },
  {
   "cell_type": "markdown",
   "id": "7b67b2d1",
   "metadata": {},
   "source": [
    "## Q3. Explain why the __init__() function is used. Give a suitable example."
   ]
  },
  {
   "cell_type": "markdown",
   "id": "e2622fc8",
   "metadata": {},
   "source": [
    "The __init__() function is a special method in Python classes that is used to initialize the attributes of an object when it is created. It is called the constructor method because it is automatically called when a new instance of the class is created.\n",
    "\n",
    "The __init__() function is used to ensure that an object has all the necessary attributes and is in a valid state when it is created. This makes it easier to use the object and ensures that it behaves correctly.\n",
    "\n",
    "Here's an example to illustrate how the __init__() function works:"
   ]
  },
  {
   "cell_type": "code",
   "execution_count": null,
   "id": "87e43d13",
   "metadata": {},
   "outputs": [],
   "source": [
    "class Person:\n",
    "    def __init__(self, name, age):\n",
    "        self.name = name\n",
    "        self.age = age\n",
    "\n",
    "    def introduce(self):\n",
    "        print(f\"My name is {self.name} and I am {self.age} years old.\")\n",
    "\n",
    "person1 = Person(\"Alice\", 25)\n",
    "person1.introduce()  # prints \"My name is Alice and I am 25 years old.\"\n"
   ]
  },
  {
   "cell_type": "markdown",
   "id": "667f7b1a",
   "metadata": {},
   "source": [
    "In this example, we define a Person class with two attributes (name and age) and a method (introduce). The __init__() function initializes the name and age attributes when a new Person object is created.\n",
    "\n",
    "When we create a new instance of the Person class using person1 = Person(\"Alice\", 25), the __init__() function is automatically called with the arguments \"Alice\" and 25. This initializes the name attribute to \"Alice\" and the age attribute to 25.\n",
    "\n",
    "We can then call the introduce() method on person1 to print out a message introducing the person with their name and age."
   ]
  },
  {
   "cell_type": "markdown",
   "id": "eb1f6925",
   "metadata": {},
   "source": [
    "## Q4. Why self is used in OOPs?"
   ]
  },
  {
   "cell_type": "markdown",
   "id": "23518254",
   "metadata": {},
   "source": [
    "In Object-Oriented Programming (OOP), the self keyword is used to refer to the instance of the class being manipulated or accessed. It is a reference to the current object, which allows the object to access its own properties and methods.\n",
    "\n",
    "When a method is called on an instance of a class, the instance itself is passed to the method as the first argument (which is typically named self in Python). By using self, the instance can access its own properties and methods, and modify them if necessary.\n",
    "\n",
    "For example, consider a Person class that has a name property and a greet method:"
   ]
  },
  {
   "cell_type": "code",
   "execution_count": 12,
   "id": "b8aeeea3",
   "metadata": {},
   "outputs": [],
   "source": [
    "class Person:\n",
    "    def __init__(self, name):\n",
    "        self.name = name\n",
    "        \n",
    "    def greet(self):\n",
    "        print(\"Hello, my name is\", self.name)\n"
   ]
  },
  {
   "cell_type": "markdown",
   "id": "078c32c2",
   "metadata": {},
   "source": [
    "In the greet method, self.name refers to the name property of the instance of the Person class that called the method. Without the self parameter, the method would not know which instance to reference.\n",
    "\n",
    "In summary, self is used in OOP to reference the instance of the class being manipulated, allowing the instance to access its own properties and methods."
   ]
  },
  {
   "cell_type": "markdown",
   "id": "edcd4097",
   "metadata": {},
   "source": [
    "## Q5. What is inheritance? Give an example for each type of inheritance."
   ]
  },
  {
   "cell_type": "markdown",
   "id": "75035be3",
   "metadata": {},
   "source": [
    "Inheritance is a mechanism in object-oriented programming (OOP) where a class (called the child or derived class) inherits properties and methods from another class (called the parent or base class). This allows the child class to reuse code from the parent class, as well as add its own properties and methods.\n",
    "\n",
    "In Python, there are several types of inheritance:\n",
    "\n",
    "1.Single inheritance: A child class inherits from a single parent class.\n",
    "Example:"
   ]
  },
  {
   "cell_type": "code",
   "execution_count": 14,
   "id": "2da153ee",
   "metadata": {},
   "outputs": [
    {
     "name": "stdout",
     "output_type": "stream",
     "text": [
      "Parent method 1\n",
      "Child method 2\n"
     ]
    }
   ],
   "source": [
    "class Parent:\n",
    "    def method1(self):\n",
    "        print(\"Parent method 1\")\n",
    "    \n",
    "class Child(Parent):\n",
    "    def method2(self):\n",
    "        print(\"Child method 2\")\n",
    "\n",
    "c = Child()\n",
    "c.method1() # Output: Parent method 1\n",
    "c.method2() # Output: Child method 2\n"
   ]
  },
  {
   "cell_type": "markdown",
   "id": "8ab6e274",
   "metadata": {},
   "source": [
    "2.Multiple inheritance: A child class inherits from multiple parent classes.\n",
    "Example:"
   ]
  },
  {
   "cell_type": "code",
   "execution_count": 15,
   "id": "c0fdeff7",
   "metadata": {},
   "outputs": [
    {
     "name": "stdout",
     "output_type": "stream",
     "text": [
      "Parent 1 method 1\n",
      "Parent 2 method 2\n",
      "Child method 3\n"
     ]
    }
   ],
   "source": [
    "class Parent1:\n",
    "    def method1(self):\n",
    "        print(\"Parent 1 method 1\")\n",
    "    \n",
    "class Parent2:\n",
    "    def method2(self):\n",
    "        print(\"Parent 2 method 2\")\n",
    "\n",
    "class Child(Parent1, Parent2):\n",
    "    def method3(self):\n",
    "        print(\"Child method 3\")\n",
    "\n",
    "c = Child()\n",
    "c.method1() # Output: Parent 1 method 1\n",
    "c.method2() # Output: Parent 2 method 2\n",
    "c.method3() # Output: Child method 3\n"
   ]
  },
  {
   "cell_type": "markdown",
   "id": "f2658ac6",
   "metadata": {},
   "source": [
    "3.Multilevel inheritance: A child class inherits from a parent class, which itself inherits from another parent class.\n",
    "Example:"
   ]
  },
  {
   "cell_type": "code",
   "execution_count": 17,
   "id": "8a09b789",
   "metadata": {},
   "outputs": [
    {
     "name": "stdout",
     "output_type": "stream",
     "text": [
      "Grandparent method 1\n",
      "Parent method 2\n",
      "Child method 3\n"
     ]
    }
   ],
   "source": [
    "class Grandparent:\n",
    "    def method1(self):\n",
    "        print(\"Grandparent method 1\")\n",
    "    \n",
    "class Parent(Grandparent):\n",
    "    def method2(self):\n",
    "        print(\"Parent method 2\")\n",
    "\n",
    "class Child(Parent):\n",
    "    def method3(self):\n",
    "        print(\"Child method 3\")\n",
    "\n",
    "c = Child()\n",
    "c.method1() # Output: Grandparent method 1\n",
    "c.method2() # Output: Parent method 2\n",
    "c.method3() # Output: Child method 3\n"
   ]
  },
  {
   "cell_type": "markdown",
   "id": "00f31aed",
   "metadata": {},
   "source": [
    "4. Hierarchical inheritance: Two or more child classes inherit from the same parent class.\n",
    "Example:"
   ]
  },
  {
   "cell_type": "code",
   "execution_count": 18,
   "id": "828a79b3",
   "metadata": {},
   "outputs": [
    {
     "name": "stdout",
     "output_type": "stream",
     "text": [
      "Parent method 1\n",
      "Child 1 method 2\n",
      "Parent method 1\n",
      "Child 2 method 3\n"
     ]
    }
   ],
   "source": [
    "class Parent:\n",
    "    def method1(self):\n",
    "        print(\"Parent method 1\")\n",
    "    \n",
    "class Child1(Parent):\n",
    "    def method2(self):\n",
    "        print(\"Child 1 method 2\")\n",
    "\n",
    "class Child2(Parent):\n",
    "    def method3(self):\n",
    "        print(\"Child 2 method 3\")\n",
    "\n",
    "c1 = Child1()\n",
    "c1.method1() # Output: Parent method 1\n",
    "c1.method2() # Output: Child 1 method 2\n",
    "\n",
    "c2 = Child2()\n",
    "c2.method1() # Output: Parent method 1\n",
    "c2.method3() # Output: Child 2 method 3\n"
   ]
  },
  {
   "cell_type": "code",
   "execution_count": null,
   "id": "898dc834",
   "metadata": {},
   "outputs": [],
   "source": []
  }
 ],
 "metadata": {
  "kernelspec": {
   "display_name": "Python 3 (ipykernel)",
   "language": "python",
   "name": "python3"
  },
  "language_info": {
   "codemirror_mode": {
    "name": "ipython",
    "version": 3
   },
   "file_extension": ".py",
   "mimetype": "text/x-python",
   "name": "python",
   "nbconvert_exporter": "python",
   "pygments_lexer": "ipython3",
   "version": "3.9.13"
  }
 },
 "nbformat": 4,
 "nbformat_minor": 5
}
