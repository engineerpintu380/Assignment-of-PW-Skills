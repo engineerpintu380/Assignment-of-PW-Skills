{
 "cells": [
  {
   "cell_type": "markdown",
   "id": "c5edb1d5",
   "metadata": {},
   "source": [
    "## Q1. What is an Exception in Python? Write the difference between Exceptions and syntax errors.`"
   ]
  },
  {
   "cell_type": "markdown",
   "id": "31b1e3c9",
   "metadata": {},
   "source": [
    "An Exception in Python refers to an error that occurs during the execution of a Python program. When an error occurs, an Exception object is raised that can be caught and handled by the program.\n",
    "\n",
    "There are several types of exceptions in Python, including:\n",
    "\n",
    "SyntaxError: Occurs when there is a problem with the syntax of the Python code.\n",
    "\n",
    "NameError: Occurs when an object is referenced before it has been assigned a value.\n",
    "\n",
    "TypeError: Occurs when there is a problem with the type of object being used.\n",
    "\n",
    "ValueError: Occurs when a function or method receives an argument that is of the correct type but has an invalid value.\n",
    "\n",
    "IndexError: Occurs when an index is out of range.\n",
    "\n",
    "KeyError: Occurs when a dictionary key is not found.\n",
    "\n",
    "The main difference between Exceptions and Syntax errors is that Syntax errors occur when there is a problem with the syntax of the code, whereas Exceptions occur during the execution of the code. Additionally, Exceptions can be caught and handled by the program, while Syntax errors cannot be caught and must be fixed in the code.\n",
    "\n",
    "On the other hand, runtime errors or bugs are the errors that occur when a program is running. These errors can be logical or functional and can occur due to several reasons such as wrong input, improper program flow, wrong function calls, etc. Runtime errors can be caught using try-except block as exceptions, but it is not necessary that all runtime errors are exceptions. Some examples of runtime errors are DivisionByZeroError, AssertionError, AttributeError, and so on.\n"
   ]
  },
  {
   "cell_type": "markdown",
   "id": "16adb3e5",
   "metadata": {},
   "source": [
    "## Q2.What happens when an exception is not handled? Explain with an example."
   ]
  },
  {
   "cell_type": "markdown",
   "id": "dfaea027",
   "metadata": {},
   "source": [
    "When an exception is not handled, it will propagate up the call stack until it reaches a handler or the program terminates, leading to an unexpected termination of the program or unexpected behavior.\n",
    "\n",
    "For example, let's say we have a function that tries to divide two numbers:"
   ]
  },
  {
   "cell_type": "code",
   "execution_count": 1,
   "id": "18733f8b",
   "metadata": {},
   "outputs": [],
   "source": [
    "def divide(a, b):\n",
    "    return a / b\n"
   ]
  },
  {
   "cell_type": "markdown",
   "id": "4f15fe9c",
   "metadata": {},
   "source": [
    "If we call this function with b set to zero, a ZeroDivisionError exception will be raised:"
   ]
  },
  {
   "cell_type": "markdown",
   "id": "a708a195",
   "metadata": {},
   "source": [
    "result = divide(10, 0)"
   ]
  },
  {
   "cell_type": "markdown",
   "id": "9f55ef8e",
   "metadata": {},
   "source": [
    "If we don't handle this exception, the program will terminate with a traceback that shows the unhandled exception:"
   ]
  },
  {
   "cell_type": "code",
   "execution_count": null,
   "id": "3ceeb8ec",
   "metadata": {},
   "outputs": [],
   "source": [
    "Traceback (most recent call last):\n",
    "  File \"example.py\", line 5, in <module>\n",
    "    result = divide(10, 0)\n",
    "  File \"example.py\", line 2, in divide\n",
    "    return a / b\n",
    "ZeroDivisionError: division by zero\n"
   ]
  },
  {
   "cell_type": "markdown",
   "id": "42d107e1",
   "metadata": {},
   "source": [
    "## Q3. Which Python statements are used to catch and handle exceptions? Explian with an example."
   ]
  },
  {
   "cell_type": "markdown",
   "id": "e4d529d0",
   "metadata": {},
   "source": [
    "In Python, you can use try and except statements to catch and handle exceptions. The try statement is used to enclose the code that may raise an exception, and the except statement is used to specify what to do if an exception is raised.\n",
    "\n",
    "Here's an example:"
   ]
  },
  {
   "cell_type": "code",
   "execution_count": null,
   "id": "7626ad0e",
   "metadata": {},
   "outputs": [],
   "source": [
    "try:\n",
    "    num1 = int(input(\"Enter a number: \"))\n",
    "    num2 = int(input(\"Enter another number: \"))\n",
    "    result = num1 / num2\n",
    "    print(\"The result is:\", result)\n",
    "except ValueError:\n",
    "    print(\"Invalid input. Please enter a valid number.\")\n",
    "except ZeroDivisionError:\n",
    "    print(\"Cannot divide by zero.\")\n"
   ]
  },
  {
   "cell_type": "markdown",
   "id": "c7818dc0",
   "metadata": {},
   "source": [
    "In this example, the try block contains the code that takes two numbers as input, performs a division operation, and prints the result. If either of the inputs is invalid or if the second number is zero, it will raise a ValueError or ZeroDivisionError exception, respectively.\n",
    "\n",
    "If an exception is raised, the program will jump to the corresponding except block. The except block will print an appropriate error message based on the type of exception raised.\n",
    "\n",
    "For instance, if the user enters a non-numeric value, the ValueError exception will be raised and the program will execute the first except block, printing \"Invalid input. Please enter a valid number.\" Similarly, if the user enters 0 as the second number, the ZeroDivisionError exception will be raised and the program will execute the second except block, printing \"Cannot divide by zero.\""
   ]
  },
  {
   "cell_type": "markdown",
   "id": "ad3ce33b",
   "metadata": {},
   "source": [
    "## Q4. Explain with an example:\n",
    "       \n",
    "    a. try and else\n",
    "    b. finally\n",
    "    c. raise"
   ]
  },
  {
   "cell_type": "markdown",
   "id": "b73d7771",
   "metadata": {},
   "source": [
    "a. try and else: The else statement can be used in conjunction with try and except blocks. The code in the else block will execute only if no exception is raised in the try block. Here's an example:"
   ]
  },
  {
   "cell_type": "code",
   "execution_count": null,
   "id": "9b4e637f",
   "metadata": {},
   "outputs": [],
   "source": [
    "try:\n",
    "    x = int(input(\"Enter a number: \"))\n",
    "    y = int(input(\"Enter another number: \"))\n",
    "    z = x / y\n",
    "except ValueError:\n",
    "    print(\"Invalid input. Please enter a valid number.\")\n",
    "except ZeroDivisionError:\n",
    "    print(\"Cannot divide by zero.\")\n",
    "else:\n",
    "    print(\"The result of the division is:\", z)\n"
   ]
  },
  {
   "cell_type": "markdown",
   "id": "b48c53e2",
   "metadata": {},
   "source": [
    "In this example, if the user enters invalid input or tries to divide by zero, the corresponding except block will execute and print an error message. However, if no exception is raised, the code in the else block will execute and print the result of the division.\n",
    "\n",
    "b. finally: The finally statement is used to specify a block of code that will always execute, regardless of whether an exception is raised or not. This can be useful for cleaning up resources, such as closing files or database connections. Here's an example:"
   ]
  },
  {
   "cell_type": "code",
   "execution_count": null,
   "id": "c593c7e0",
   "metadata": {},
   "outputs": [],
   "source": [
    "try:\n",
    "    f = open(\"file.txt\", \"r\")\n",
    "    data = f.read()\n",
    "    print(data)\n",
    "except IOError:\n",
    "    print(\"An error occurred while reading the file.\")\n",
    "finally:\n",
    "    f.close()\n"
   ]
  },
  {
   "cell_type": "markdown",
   "id": "4b607cd6",
   "metadata": {},
   "source": [
    "In this example, the code attempts to open and read a file. If an IOError exception is raised, it will print an error message. Regardless of whether an exception is raised, the finally block will execute and close the file.\n",
    "\n",
    "c. raise: The raise statement is used to explicitly raise an exception. This can be useful for indicating that a specific error condition has occurred. Here's an example:"
   ]
  },
  {
   "cell_type": "code",
   "execution_count": null,
   "id": "fd4e8b89",
   "metadata": {},
   "outputs": [],
   "source": [
    "def calculate_age(year_born):\n",
    "    current_year = 2023\n",
    "    if year_born < 1900 or year_born > current_year:\n",
    "        raise ValueError(\"Invalid birth year\")\n",
    "    return current_year - year_born\n",
    "\n",
    "try:\n",
    "    age = calculate_age(1980)\n",
    "    print(\"You are\", age, \"years old.\")\n",
    "except ValueError as e:\n",
    "    print(e)\n"
   ]
  },
  {
   "cell_type": "markdown",
   "id": "f85ead65",
   "metadata": {},
   "source": [
    "In this example, the calculate_age() function raises a ValueError if the year of birth is invalid. The try block calls the function with a valid year of birth and prints the calculated age. If an exception is raised, the corresponding except block will execute and print the error message."
   ]
  },
  {
   "cell_type": "markdown",
   "id": "237ba882",
   "metadata": {},
   "source": [
    "## Q5.What are custom Exceptions in Python? What do we need custom Exceptions? Explain with an example. "
   ]
  },
  {
   "cell_type": "markdown",
   "id": "fdfbad10",
   "metadata": {},
   "source": [
    "Custom exceptions in Python are user-defined exceptions that allow developers to create their own error conditions and handle them in a specific way. This can be useful when dealing with unique error conditions that may not be covered by built-in exceptions.\n",
    "\n",
    "We need custom exceptions to provide more specific error messages and to distinguish between different types of errors that may occur in our code. This can make it easier to debug and maintain our code, as well as provide more meaningful feedback to users.\n",
    "\n",
    "Here's an example of creating a custom exception in Python:"
   ]
  },
  {
   "cell_type": "code",
   "execution_count": null,
   "id": "9ca1b59d",
   "metadata": {},
   "outputs": [],
   "source": [
    "class NegativeNumberError(Exception):\n",
    "    pass\n",
    "\n",
    "def calculate_square_root(num):\n",
    "    if num < 0:\n",
    "        raise NegativeNumberError(\"Cannot calculate square root of a negative number\")\n",
    "    return num ** 0.5\n",
    "\n",
    "try:\n",
    "    result = calculate_square_root(-4)\n",
    "    print(result)\n",
    "except NegativeNumberError as e:\n",
    "    print(e)\n"
   ]
  },
  {
   "cell_type": "markdown",
   "id": "acc09ded",
   "metadata": {},
   "source": [
    "In this example, we have created a custom exception called NegativeNumberError. The calculate_square_root() function takes a number as input and calculates its square root. If the input number is negative, it raises a NegativeNumberError exception with a specific error message.\n",
    "\n",
    "The try block calls the function with a negative number as input, which raises the custom exception. The corresponding except block catches the exception and prints the error message.\n",
    "\n",
    "By creating a custom exception, we have provided a more specific error message that informs the user exactly what went wrong and how to fix it. This can make our code more robust and easier to maintain."
   ]
  },
  {
   "cell_type": "markdown",
   "id": "4083cd82",
   "metadata": {},
   "source": [
    "## Q6. Create a custom exception class. Use this class to handle an exception."
   ]
  },
  {
   "cell_type": "markdown",
   "id": "9b478ac6",
   "metadata": {},
   "source": [
    "Sure, here's an example of a custom exception class in Python called InvalidInputError that can be used to handle input validation errors:"
   ]
  },
  {
   "cell_type": "code",
   "execution_count": null,
   "id": "d67fec7d",
   "metadata": {},
   "outputs": [],
   "source": [
    "class InvalidInputError(Exception):\n",
    "    \"\"\"Exception raised for invalid input.\"\"\"\n",
    "    def __init__(self, message):\n",
    "        self.message = message\n",
    "        super().__init__(self.message)\n"
   ]
  },
  {
   "cell_type": "markdown",
   "id": "4c5314e8",
   "metadata": {},
   "source": [
    "Now let's use this custom exception class to handle an exception. In this example, we'll ask the user to input a number between 1 and 10, and raise an InvalidInputError if the input is invalid:"
   ]
  },
  {
   "cell_type": "code",
   "execution_count": null,
   "id": "a4da95c4",
   "metadata": {},
   "outputs": [],
   "source": [
    "try:\n",
    "    num = int(input(\"Enter a number between 1 and 10: \"))\n",
    "    if num < 1 or num > 10:\n",
    "        raise InvalidInputError(\"Invalid input. Please enter a number between 1 and 10.\")\n",
    "    else:\n",
    "        print(\"Valid input:\", num)\n",
    "except InvalidInputError as e:\n",
    "    print(e)\n"
   ]
  },
  {
   "cell_type": "code",
   "execution_count": null,
   "id": "a1fd8f10",
   "metadata": {},
   "outputs": [],
   "source": []
  }
 ],
 "metadata": {
  "kernelspec": {
   "display_name": "Python 3 (ipykernel)",
   "language": "python",
   "name": "python3"
  },
  "language_info": {
   "codemirror_mode": {
    "name": "ipython",
    "version": 3
   },
   "file_extension": ".py",
   "mimetype": "text/x-python",
   "name": "python",
   "nbconvert_exporter": "python",
   "pygments_lexer": "ipython3",
   "version": "3.9.13"
  }
 },
 "nbformat": 4,
 "nbformat_minor": 5
}
