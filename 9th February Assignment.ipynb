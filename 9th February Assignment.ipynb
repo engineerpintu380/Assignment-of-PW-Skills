{
 "cells": [
  {
   "cell_type": "markdown",
   "id": "570279cc",
   "metadata": {},
   "source": [
    "## Q1, Create a vehicle class with an init method having instance variables as name_of_vehicle, max_speed and average_of_vehicle."
   ]
  },
  {
   "cell_type": "markdown",
   "id": "6181b1e2",
   "metadata": {},
   "source": [
    "Here's an example implementation of the Vehicle class in Python, with an __init__ method that takes three instance variables:"
   ]
  },
  {
   "cell_type": "code",
   "execution_count": 1,
   "id": "10ad92c0",
   "metadata": {},
   "outputs": [],
   "source": [
    "class Vehicle:\n",
    "    def __init__(self, name_of_vehicle, max_speed, average_of_vehicle):\n",
    "        self.name_of_vehicle = name_of_vehicle\n",
    "\n",
    "        self.max_speed = max_speed\n",
    "        self.average_of_vehicle = average_of_vehicle\n"
   ]
  },
  {
   "cell_type": "markdown",
   "id": "ab61735c",
   "metadata": {},
   "source": [
    "In this implementation, the __init__ method takes three parameters: name_of_vehicle, max_speed, and average_of_vehicle. These parameters are used to set the corresponding instance variables (self.name_of_vehicle, self.max_speed, and self.average_of_vehicle) of the newly created Vehicle object.\n",
    "\n",
    "You can create a new Vehicle object like this:"
   ]
  },
  {
   "cell_type": "code",
   "execution_count": 2,
   "id": "05554c7f",
   "metadata": {},
   "outputs": [],
   "source": [
    "my_vehicle = Vehicle(\"My car\", 200, 30)\n"
   ]
  },
  {
   "cell_type": "markdown",
   "id": "dbbf7cc0",
   "metadata": {},
   "source": [
    "This creates a new Vehicle object with the name \"My car\", a maximum speed of 200, and an average of 30. You can access these instance variables using dot notation:"
   ]
  },
  {
   "cell_type": "code",
   "execution_count": 3,
   "id": "055bf980",
   "metadata": {},
   "outputs": [
    {
     "name": "stdout",
     "output_type": "stream",
     "text": [
      "My car\n",
      "200\n",
      "30\n"
     ]
    }
   ],
   "source": [
    "print(my_vehicle.name_of_vehicle)   # Output: \"My car\"\n",
    "print(my_vehicle.max_speed)         # Output: 200\n",
    "print(my_vehicle.average_of_vehicle)  # Output: 30\n"
   ]
  },
  {
   "cell_type": "markdown",
   "id": "2b807031",
   "metadata": {},
   "source": [
    "I hope that helps! Let me know if you have any more questions."
   ]
  },
  {
   "cell_type": "markdown",
   "id": "ef8c1e23",
   "metadata": {},
   "source": [
    "## Q2. Create a child class car from the vehicle class created in Que 1, which will inherit the vehicle class.Create a method named seating_capacity which takes capacity as an argument and returns the name of the vehicle and its seating capacity."
   ]
  },
  {
   "cell_type": "markdown",
   "id": "752fe93e",
   "metadata": {},
   "source": [
    "Here is the code for the child class Car that inherits from the Vehicle class and has a \"seating_capacity\" method:"
   ]
  },
  {
   "cell_type": "code",
   "execution_count": null,
   "id": "7902de6b",
   "metadata": {},
   "outputs": [],
   "source": [
    "class Car(Vehicle):\n",
    "    def __init__(self, make, model, year, weight):\n",
    "        super().__init__(make, model, year, weight)\n",
    "    \n",
    "    def seating_capacity(self, capacity):\n",
    "        return f\"{self.__class__.__name__} {self.make} {self.model} can seat {capacity} passengers.\"\n",
    "`"
   ]
  },
  {
   "cell_type": "markdown",
   "id": "b50b3bd4",
   "metadata": {},
   "source": [
    "This class has an __init__ method that calls the __init__ method of the parent Vehicle class using the super() function. It also has a seating_capacity method that takes a capacity argument and returns a string with the name of the vehicle, make, model and the seating capacity.\n",
    "\n",
    "You can create an instance of this class as follows:"
   ]
  },
  {
   "cell_type": "code",
   "execution_count": null,
   "id": "adc4849d",
   "metadata": {},
   "outputs": [],
   "source": [
    "car = Car(\"Toyota\", \"Corolla\", 2022, 1200)\n",
    "print(car.seating_capacity(5)) # Output: \"Car Toyota Corolla can seat 5 passengers.\"\n"
   ]
  },
  {
   "cell_type": "markdown",
   "id": "5f9a2f59",
   "metadata": {},
   "source": [
    "This creates a Car object with the make \"Toyota\", model \"Corolla\", year 2022, and weight 1200. The seating_capacity method is then called on this object with a seating capacity of 5, which returns a string with the vehicle name, make, model and seating capacity.``"
   ]
  },
  {
   "cell_type": "markdown",
   "id": "f28b2ca0",
   "metadata": {},
   "source": [
    "## 'Q3. What is multiple inheritance? Write a python code to demonstrate multiple inheritance."
   ]
  },
  {
   "cell_type": "markdown",
   "id": "31236304",
   "metadata": {},
   "source": [
    "Multiple inheritance is a feature of object-oriented programming languages where a class can inherit properties and methods from more than one parent class. In Python, you can create a child class that inherits from multiple parent classes by specifying all the parent classes in a comma-separated list inside the parentheses of the class definition.\n",
    "\n",
    "Here's an example of multiple inheritance in Python:"
   ]
  },
  {
   "cell_type": "code",
   "execution_count": 7,
   "id": "547ef21c",
   "metadata": {},
   "outputs": [
    {
     "name": "stdout",
     "output_type": "stream",
     "text": [
      "I can eat.\n",
      "I can sleep.\n",
      "I can play.\n",
      "Woof!\n"
     ]
    }
   ],
   "source": [
    "class Animal:\n",
    "    def eat(self):\n",
    "        print(\"I can eat.\")\n",
    "        \n",
    "    def sleep(self):\n",
    "        print(\"I can sleep.\")\n",
    "        \n",
    "class Pet:\n",
    "    def play(self):\n",
    "        print(\"I can play.\")\n",
    "        \n",
    "class Dog(Animal, Pet):\n",
    "    def bark(self):\n",
    "        print(\"Woof!\")\n",
    "        \n",
    "dog = Dog()\n",
    "dog.eat()    # Output: I can eat.\n",
    "dog.sleep()  # Output: I can sleep.\n",
    "dog.play()   # Output: I can play.\n",
    "dog.bark()   # Output: Woof!\n"
   ]
  },
  {
   "cell_type": "markdown",
   "id": "41e7c0f0",
   "metadata": {},
   "source": [
    "In this example, we have two parent classes Animal and Pet, and a child class Dog that inherits from both parent classes using the comma-separated list of parent classes Animal, Pet inside the parentheses of the Dog class definition.\n",
    "\n",
    "The Animal class defines two methods eat() and sleep(), while the Pet class defines one method play(). The Dog class inherits all these methods and also defines its own method bark().\n",
    "\n",
    "Finally, we create an instance of the Dog class and call its methods using the dot notation. As you can see from the output, the instance of the Dog class can call all the methods inherited from both parent classes and its own method."
   ]
  },
  {
   "cell_type": "markdown",
   "id": "5eacea36",
   "metadata": {},
   "source": [
    "## Q4. What are getter and setter in python? Create a class and create a getter and a setter method in this class."
   ]
  },
  {
   "cell_type": "markdown",
   "id": "762f1576",
   "metadata": {},
   "source": [
    "In Python, getter and setter are methods that allow accessing and modifying private class attributes, respectively. Private class attributes are those that are meant to be accessed and modified only through specific methods of the class.\n",
    "\n",
    "Getter method is a method that returns the value of a private class attribute. Setter method is a method that sets the value of a private class attribute.\n",
    "\n",
    "Here's an example of a class that has a private attribute age and getter and setter methods to access and modify the value of age:"
   ]
  },
  {
   "cell_type": "code",
   "execution_count": 9,
   "id": "2fb1e197",
   "metadata": {},
   "outputs": [
    {
     "name": "stdout",
     "output_type": "stream",
     "text": [
      "30\n",
      "35\n",
      "35\n"
     ]
    }
   ],
   "source": [
    "class Person:\n",
    "    def __init__(self, name, age):\n",
    "        self.name = name\n",
    "        self.__age = age  # Private attribute\n",
    "        \n",
    "    def get_age(self):\n",
    "        return self.__age\n",
    "        \n",
    "    def set_age(self, age):\n",
    "        if age > 0:\n",
    "            self.__age = age\n",
    "        \n",
    "person = Person(\"John\", 30)\n",
    "print(person.get_age())  # Output: 30\n",
    "\n",
    "person.set_age(35)\n",
    "print(person.get_age())  # Output: 35\n",
    "\n",
    "person.set_age(-10)  # This will not modify the age since the new age is not greater than 0\n",
    "print(person.get_age())  # Output: 35\n"
   ]
  },
  {
   "cell_type": "markdown",
   "id": "fbdbc3f6",
   "metadata": {},
   "source": [
    "In this example, we have a Person class with two attributes name and __age (note the double underscores before the attribute name, indicating that it is a private attribute).\n",
    "\n",
    "We define two methods get_age() and set_age() to access and modify the value of the private attribute __age.\n",
    "\n",
    "The get_age() method returns the value of the private attribute __age.\n",
    "\n",
    "The set_age() method sets the value of the private attribute __age, but only if the new age is greater than 0.\n",
    "\n",
    "Finally, we create an instance of the Person class and call the getter and setter methods to access and modify the value of the private attribute __age."
   ]
  },
  {
   "cell_type": "markdown",
   "id": "a9fffa33",
   "metadata": {},
   "source": [
    "## Q5.What is method overriding in python? Write a python code to demonstrate method overriding."
   ]
  },
  {
   "cell_type": "markdown",
   "id": "cf346466",
   "metadata": {},
   "source": [
    "Method overriding in Python is a feature that allows a subclass to provide its own implementation for a method that is already defined in its superclass. When the method is called on an instance of the subclass, the overridden method in the subclass is executed instead of the original method in the superclass.\n",
    "\n",
    "Here's an example Python code to demonstrate method overriding:"
   ]
  },
  {
   "cell_type": "code",
   "execution_count": 10,
   "id": "eaa5aa89",
   "metadata": {},
   "outputs": [
    {
     "name": "stdout",
     "output_type": "stream",
     "text": [
      "The animal speaks.\n",
      "The dog barks.\n",
      "The cat meows.\n"
     ]
    }
   ],
   "source": [
    "class Animal:\n",
    "    def speak(self):\n",
    "        print(\"The animal speaks.\")\n",
    "\n",
    "class Dog(Animal):\n",
    "    def speak(self):\n",
    "        print(\"The dog barks.\")\n",
    "\n",
    "class Cat(Animal):\n",
    "    def speak(self):\n",
    "        print(\"The cat meows.\")\n",
    "\n",
    "# Create instances of Animal, Dog, and Cat classes\n",
    "animal = Animal()\n",
    "dog = Dog()\n",
    "cat = Cat()\n",
    "\n",
    "# Call the speak method on each instance\n",
    "animal.speak()\n",
    "dog.speak()\n",
    "cat.speak()\n"
   ]
  },
  {
   "cell_type": "code",
   "execution_count": null,
   "id": "14542966",
   "metadata": {},
   "outputs": [],
   "source": []
  }
 ],
 "metadata": {
  "kernelspec": {
   "display_name": "Python 3 (ipykernel)",
   "language": "python",
   "name": "python3"
  },
  "language_info": {
   "codemirror_mode": {
    "name": "ipython",
    "version": 3
   },
   "file_extension": ".py",
   "mimetype": "text/x-python",
   "name": "python",
   "nbconvert_exporter": "python",
   "pygments_lexer": "ipython3",
   "version": "3.9.13"
  }
 },
 "nbformat": 4,
 "nbformat_minor": 5
}
