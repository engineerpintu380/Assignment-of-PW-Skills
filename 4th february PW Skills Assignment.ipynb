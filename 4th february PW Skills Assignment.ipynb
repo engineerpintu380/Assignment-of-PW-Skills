{
 "cells": [
  {
   "cell_type": "markdown",
   "id": "66df531d",
   "metadata": {},
   "source": [
    "## Q1. Create a python program to sort the given list of tuples based on integer value using alambda function.      [('Sachin Tendulkar', 34357), ('Ricky Ponting', 27483), ('Jack Kallis', 25534), ('Virat Kohli', 24936)]"
   ]
  },
  {
   "cell_type": "code",
   "execution_count": 1,
   "id": "90582aed",
   "metadata": {},
   "outputs": [
    {
     "name": "stdout",
     "output_type": "stream",
     "text": [
      "[('Virat Kohli', 24936), ('Jack Kallis', 25534), ('Ricky Ponting', 27483), ('Sachin Tendulkar', 34357)]\n"
     ]
    }
   ],
   "source": [
    "players = [('Sachin Tendulkar', 34357), ('Ricky Ponting', 27483), ('Jack Kallis', 25534), ('Virat Kohli', 24936)]\n",
    "\n",
    "sorted_players = sorted(players, key=lambda x: x[1])\n",
    "\n",
    "print(sorted_players)\n"
   ]
  },
  {
   "cell_type": "markdown",
   "id": "61a0c76e",
   "metadata": {},
   "source": [
    "## Q2. Write a Python Program to find the squares of all the numbers in the given list of integers using lambda and map functions.[1, 2, 3, 4, 5, 6, 7, 8, 9, 10]"
   ]
  },
  {
   "cell_type": "code",
   "execution_count": 2,
   "id": "7b02c1f4",
   "metadata": {},
   "outputs": [
    {
     "name": "stdout",
     "output_type": "stream",
     "text": [
      "[1, 4, 9, 16, 25, 36, 49, 64, 81, 100]\n"
     ]
    }
   ],
   "source": [
    "numbers = [1, 2, 3, 4, 5, 6, 7, 8, 9, 10]\n",
    "\n",
    "squares = list(map(lambda x: x**2, numbers))\n",
    "\n",
    "print(squares)\n"
   ]
  },
  {
   "cell_type": "markdown",
   "id": "25be4ac1",
   "metadata": {},
   "source": [
    "## Q3. Write a python program to convert the given list of integers into a tuple of strings. Use map andlambda functions Given String: [1, 2, 3, 4, 5, 6, 7, 8, 9, 10]"
   ]
  },
  {
   "cell_type": "code",
   "execution_count": 3,
   "id": "32545f4d",
   "metadata": {},
   "outputs": [
    {
     "name": "stdout",
     "output_type": "stream",
     "text": [
      "('1', '2', '3', '4', '5', '6', '7', '8', '9', '10')\n"
     ]
    }
   ],
   "source": [
    "numbers = [1, 2, 3, 4, 5, 6, 7, 8, 9, 10]\n",
    "\n",
    "strings_tuple = tuple(map(lambda x: str(x), numbers))\n",
    "\n",
    "print(strings_tuple)\n"
   ]
  },
  {
   "cell_type": "markdown",
   "id": "a16c66fa",
   "metadata": {},
   "source": [
    "## Q4. Write a python program using reduce function to compute the product of a list containing numbers from 1 to 25."
   ]
  },
  {
   "cell_type": "code",
   "execution_count": 4,
   "id": "c20255de",
   "metadata": {},
   "outputs": [
    {
     "name": "stdout",
     "output_type": "stream",
     "text": [
      "15511210043330985984000000\n"
     ]
    }
   ],
   "source": [
    "from functools import reduce\n",
    "\n",
    "numbers = list(range(1, 26))\n",
    "\n",
    "product = reduce(lambda x, y: x * y, numbers)\n",
    "\n",
    "print(product)\n"
   ]
  },
  {
   "cell_type": "markdown",
   "id": "cbdcf5ab",
   "metadata": {},
   "source": [
    "In the above program, we first import the reduce() function from the functools module. We then define a list of integers called numbers using the range() function. The range() function generates a sequence of integers from 1 to 25 (inclusive). We then use the reduce() function to apply a lambda function to the list in a cumulative way. The lambda function takes two arguments x and y (which are integers), and returns the product of those integers (x * y). The reduce() function returns the final cumulative product of all the integers in the list, which we store in the product variable. Finally, we print the product variable to the console."
   ]
  },
  {
   "cell_type": "markdown",
   "id": "b7cc0944",
   "metadata": {},
   "source": [
    "## Q5. Write a python program to filter the numbers in a given list that are divisible by 2 and 3 using the filter function.[2, 3, 6, 9, 27, 60, 90, 120, 55, 46]"
   ]
  },
  {
   "cell_type": "code",
   "execution_count": 5,
   "id": "86927292",
   "metadata": {},
   "outputs": [
    {
     "name": "stdout",
     "output_type": "stream",
     "text": [
      "[6, 60, 90, 120]\n"
     ]
    }
   ],
   "source": [
    "numbers = [2, 3, 6, 9, 27, 60, 90, 120, 55, 46]\n",
    "\n",
    "# define a function that checks if a number is divisible by 2 and 3\n",
    "def is_divisible_by_2_and_3(num):\n",
    "    return num % 2 == 0 and num % 3 == 0\n",
    "\n",
    "# use the filter() function to filter the numbers in the list\n",
    "result = list(filter(is_divisible_by_2_and_3, numbers))\n",
    "\n",
    "print(result)\n"
   ]
  },
  {
   "cell_type": "markdown",
   "id": "89d5a31a",
   "metadata": {},
   "source": [
    "## Q6. Write a python program to find palindromes in the given list of strings using lambda and filter function. ['python', 'php', 'aba', 'radar', 'level']"
   ]
  },
  {
   "cell_type": "code",
   "execution_count": 6,
   "id": "0d1165b0",
   "metadata": {},
   "outputs": [
    {
     "name": "stdout",
     "output_type": "stream",
     "text": [
      "['php', 'aba', 'radar', 'level']\n"
     ]
    }
   ],
   "source": [
    "words = ['python', 'php', 'aba', 'radar', 'level']\n",
    "\n",
    "# define a lambda function that checks if a word is a palindrome\n",
    "is_palindrome = lambda word: word == word[::-1]\n",
    "\n",
    "# use the filter() function to filter the palindromes in the list\n",
    "result = list(filter(is_palindrome, words))\n",
    "\n",
    "print(result)\n"
   ]
  },
  {
   "cell_type": "code",
   "execution_count": null,
   "id": "d8a6c7c8",
   "metadata": {},
   "outputs": [],
   "source": []
  },
  {
   "cell_type": "code",
   "execution_count": null,
   "id": "4c528198",
   "metadata": {},
   "outputs": [],
   "source": []
  },
  {
   "cell_type": "code",
   "execution_count": null,
   "id": "2a8bf2e7",
   "metadata": {},
   "outputs": [],
   "source": []
  },
  {
   "cell_type": "code",
   "execution_count": null,
   "id": "694f9893",
   "metadata": {},
   "outputs": [],
   "source": []
  }
 ],
 "metadata": {
  "kernelspec": {
   "display_name": "Python 3 (ipykernel)",
   "language": "python",
   "name": "python3"
  },
  "language_info": {
   "codemirror_mode": {
    "name": "ipython",
    "version": 3
   },
   "file_extension": ".py",
   "mimetype": "text/x-python",
   "name": "python",
   "nbconvert_exporter": "python",
   "pygments_lexer": "ipython3",
   "version": "3.9.13"
  }
 },
 "nbformat": 4,
 "nbformat_minor": 5
}
