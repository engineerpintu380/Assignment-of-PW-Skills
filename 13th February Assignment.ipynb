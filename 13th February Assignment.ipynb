{
 "cells": [
  {
   "cell_type": "markdown",
   "id": "eb7bb8d5",
   "metadata": {},
   "source": [
    "## Q1. Explain why we have to use the Exception class while creating a Custom Exception.\n",
    "Note: Here Exception class refers to the base class for all the exceptions."
   ]
  },
  {
   "cell_type": "markdown",
   "id": "05a529c5",
   "metadata": {},
   "source": [
    "In Python, we can create custom exceptions by defining a new class that inherits from the Exception class, which is the base class for all exceptions. When we define a custom exception, we are essentially creating a new type of error that can be raised in our code.\n",
    "\n",
    "The Exception class provides a number of methods and attributes that are useful for handling and propagating exceptions in Python. By inheriting from the Exception class, our custom exception class automatically inherits these methods and attributes, making it easier to handle our custom exception in a consistent and predictable way.\n",
    "\n",
    "For example, the Exception class provides the __str__() method, which is used to convert the exception to a string representation. This method is automatically called when an exception is printed to the console or logged to a file, allowing us to provide a custom error message that provides information about the cause of the exception.\n",
    "\n",
    "By inheriting from the Exception class, our custom exception class can also be caught using a generic try-except block that catches all exceptions of a certain type. For example, if we define a custom exception class named MyException, we can catch all instances of this exception using the following code:\n",
    "\n",
    "\n",
    "\n",
    "\n",
    "\n"
   ]
  },
  {
   "cell_type": "code",
   "execution_count": null,
   "id": "ea9e129b",
   "metadata": {},
   "outputs": [],
   "source": [
    "try:\n",
    "    # some code that may raise MyException\n",
    "except MyException as e:\n",
    "    # handle the exception\n"
   ]
  },
  {
   "cell_type": "markdown",
   "id": "6e60b272",
   "metadata": {},
   "source": [
    "Overall, using the Exception class as the base class for our custom exception helps to ensure that our exception is consistent with other exceptions in Python, making it easier to handle and debug errors in our code."
   ]
  },
  {
   "cell_type": "markdown",
   "id": "877b566a",
   "metadata": {},
   "source": [
    "## Q2. Write a python program to print Python Exception Hierarchy."
   ]
  },
  {
   "cell_type": "markdown",
   "id": "f5ea48e1",
   "metadata": {},
   "source": [
    "Certainly, here's a Python program that prints the Python exception hierarchy using the built-in Exception class and the __subclasses__() method:"
   ]
  },
  {
   "cell_type": "code",
   "execution_count": 3,
   "id": "5223d55f",
   "metadata": {},
   "outputs": [
    {
     "name": "stdout",
     "output_type": "stream",
     "text": [
      "Exception\n",
      "    TypeError -> StopAsyncIteration -> StopIteration -> ImportError -> OSError -> EOFError -> RuntimeError -> NameError -> AttributeError -> SyntaxError -> LookupError -> ValueError -> AssertionError -> ArithmeticError -> SystemError -> ReferenceError -> MemoryError -> BufferError -> Warning -> Error -> _OptionError -> error -> Verbose -> _Error -> SubprocessError -> TokenError -> StopTokenizing -> ClassFoundException -> EndOfBlock -> TraitError -> Error -> Error -> _GiveupOnSendfile -> error -> Incomplete -> TimeoutError -> InvalidStateError -> LimitOverrunError -> QueueEmpty -> QueueFull -> error -> LZMAError -> RegistryError -> _GiveupOnFastCopy -> Empty -> Full -> ZMQBaseError -> PickleError -> _Stop -> ArgumentError -> ArgumentTypeError -> ConfigError -> ConfigurableError -> ApplicationError -> TimeoutError -> COMError -> ArgumentError -> ReturnValueIgnoredError -> KeyReuseError -> UnknownKeyError -> LeakedCallbackError -> BadYieldError -> ReturnValueIgnoredError -> Return -> InvalidPortNumber -> NoIPAddresses -> BadZipFile -> LargeZipFile -> Error -> BadEntryPoint -> NoSuchEntryPoint -> DuplicateKernelError -> ErrorDuringImport -> BdbQuit -> Restart -> FindCmdError -> HomeDirError -> ProfileDirError -> IPythonCoreError -> InputRejected -> GetoptError -> OptionError -> ErrorToken -> PrefilterError -> AliasError -> Error -> Warning -> SpaceInInput -> DOMException -> ValidationError -> EditReadOnlyBuffer -> _Retry -> InvalidLayoutError -> HeightIsUnknownError -> ParserSyntaxError -> InternalParseError -> _PositionUpdatingFinished -> SimpleGetItemNotFound -> UncaughtAttributeError -> HasNoContext -> ParamIssue -> _JediError -> OnErrorLeaf -> InvalidPythonEnvironment -> MessageError -> Error -> HTTPException -> InteractivelyDefined -> KillEmbedded -> Error -> Error -> TimeoutExpired -> TimeoutAbandoned -> QueueEmpty -> QueueFull -> ExpatError -> Error -> error -> com_error -> internal_error -> ParseBaseException -> RecursiveGrammarException -> ResolutionError -> UnableToResolveVariableException -> InvalidTypeInArgsException\n",
      "        FloatOperation -> MultipartConversionError -> ModuleNotFoundError -> ZipImportError -> ConnectionError -> BlockingIOError -> ChildProcessError -> FileExistsError -> FileNotFoundError -> IsADirectoryError -> NotADirectoryError -> InterruptedError -> PermissionError -> ProcessLookupError -> TimeoutError -> UnsupportedOperation -> herror -> gaierror -> timeout -> SSLError -> Error -> SpecialFileError -> ExecError -> ReadError -> URLError -> BadGzipFile -> IncompleteReadError -> RecursionError -> NotImplementedError -> _DeadlockError -> BrokenBarrierError -> BrokenExecutor -> SendfileNotAvailableError -> ExtractionError -> VariableError -> UnboundLocalError -> FrozenInstanceError -> IndentationError -> IndexError -> KeyError -> CodecRegistryError -> UnicodeError -> UnsupportedOperation -> JSONDecodeError -> SSLCertVerificationError -> Error -> IllegalMonthError -> IllegalWeekdayError -> ParserError -> ClassNotFound -> ClipboardEmpty -> MessageDefect -> MacroToEdit -> InvalidFileException -> UnequalIterablesError -> InvalidVersion -> _InvalidELFFileHeader -> InvalidWheelFilename -> InvalidSdistFilename -> InvalidSpecifier -> InvalidMarker -> UndefinedComparison -> UndefinedEnvironmentName -> InvalidRequirement -> InvalidVersion -> FloatingPointError -> OverflowError -> ZeroDivisionError -> DecimalException -> CodecRegistryError -> UserWarning -> DeprecationWarning -> PendingDeprecationWarning -> SyntaxWarning -> RuntimeWarning -> FutureWarning -> ImportWarning -> UnicodeWarning -> BytesWarning -> ResourceWarning -> DeprecatedTzFormatWarning -> PkgResourcesDeprecationWarning -> CalledProcessError -> TimeoutExpired -> CancelledError -> TimeoutError -> InvalidStateError -> ZMQError -> ZMQBindError -> NotDone -> PicklingError -> UnpicklingError -> ConfigLoaderError -> ConfigFileNotFound -> MultipleInstanceError -> NoSectionError -> DuplicateSectionError -> DuplicateOptionError -> NoOptionError -> InterpolationError -> ParsingError -> TryNext -> UsageError -> StdinNotImplementedError -> InvalidAliasError -> InterfaceError -> DatabaseError -> IndexSizeErr -> DomstringSizeErr -> HierarchyRequestErr -> WrongDocumentErr -> InvalidCharacterErr -> NoDataAllowedErr -> NoModificationAllowedErr -> NotFoundErr -> NotSupportedErr -> InuseAttributeErr -> InvalidStateErr -> SyntaxErr -> InvalidModificationErr -> NamespaceErr -> InvalidAccessErr -> ValidationErr -> InternalError -> WrongVersion -> RefactoringError -> MessageParseError -> MultipartConversionError -> CharsetError -> NotConnected -> InvalidURL -> UnknownProtocol -> UnknownTransferEncoding -> UnimplementedFileMode -> IncompleteRead -> ImproperConnectionState -> BadStatusLine -> LineTooLong -> NoSuchProcess -> AccessDenied -> TimeoutExpired -> ProtocolError -> ResponseError -> Fault -> ParseException -> ParseFatalException -> VersionConflict -> DistributionNotFound -> UnknownExtra\n",
      "            BrokenPipeError -> ConnectionAbortedError -> ConnectionRefusedError -> ConnectionResetError -> InterruptedSystemCall -> SSLCertVerificationError -> SSLZeroReturnError -> SSLWantReadError -> SSLWantWriteError -> SSLSyscallError -> SSLEOFError -> SameFileError -> HTTPError -> ContentTooShortError -> ZMQVersionError -> StdinNotImplementedError -> BrokenThreadPool -> TabError -> NoSuchKernel -> UnknownBackend -> UnicodeEncodeError -> UnicodeDecodeError -> UnicodeTranslateError -> NoBoundaryInMultipartDefect -> StartBoundaryNotFoundDefect -> CloseBoundaryNotFoundDefect -> FirstHeaderLineIsContinuationDefect -> MisplacedEnvelopeHeaderDefect -> MissingHeaderBodySeparatorDefect -> MultipartInvariantViolationDefect -> InvalidMultipartContentTransferEncodingDefect -> UndecodableBytesDefect -> InvalidBase64PaddingDefect -> InvalidBase64CharactersDefect -> InvalidBase64LengthDefect -> HeaderDefect -> RequirementParseError -> DivisionByZero -> DivisionUndefined -> Clamped -> Rounded -> Inexact -> Subnormal -> DivisionByZero -> FloatOperation -> InvalidOperation -> GetPassWarning -> FormatterWarning -> ProvisionalWarning -> ProactorSelectorThreadWarning -> UnknownTimezoneWarning -> PEP440Warning -> ProvisionalCompleterWarning -> ContextTerminated -> Again -> InterruptedSystemCall -> ArgumentError -> InterpolationMissingOptionError -> InterpolationSyntaxError -> InterpolationDepthError -> MissingSectionHeaderError -> InternalError -> OperationalError -> ProgrammingError -> IntegrityError -> DataError -> NotSupportedError -> HeaderParseError -> BoundaryError -> CannotSendRequest -> CannotSendHeader -> ResponseNotReady -> RemoteDisconnected -> ZombieProcess -> ParseSyntaxException -> ContextualVersionConflict\n",
      "                RemoteDisconnected -> InvalidHeaderDefect -> HeaderMissingRequiredValue -> NonPrintableDefect -> ObsoleteHeaderDefect -> NonASCIILocalPartDefect -> Underflow -> Overflow -> Underflow -> Overflow -> Underflow -> ConversionSyntax -> DivisionImpossible -> DivisionUndefined -> InvalidContext\n"
     ]
    }
   ],
   "source": [
    "class_hierarchy = {}\n",
    "\n",
    "def build_hierarchy(cls, level=0):\n",
    "    class_hierarchy.setdefault(level, []).append(cls.__name__)\n",
    "    for subclass in cls.__subclasses__():\n",
    "        build_hierarchy(subclass, level+1)\n",
    "\n",
    "build_hierarchy(Exception)\n",
    "\n",
    "for level in sorted(class_hierarchy.keys()):\n",
    "    print(' ' * 4 * level, end='')\n",
    "    print(*class_hierarchy[level], sep=' -> ')\n"
   ]
  },
  {
   "cell_type": "code",
   "execution_count": null,
   "id": "a689f387",
   "metadata": {},
   "outputs": [],
   "source": []
  }
 ],
 "metadata": {
  "kernelspec": {
   "display_name": "Python 3 (ipykernel)",
   "language": "python",
   "name": "python3"
  },
  "language_info": {
   "codemirror_mode": {
    "name": "ipython",
    "version": 3
   },
   "file_extension": ".py",
   "mimetype": "text/x-python",
   "name": "python",
   "nbconvert_exporter": "python",
   "pygments_lexer": "ipython3",
   "version": "3.9.13"
  }
 },
 "nbformat": 4,
 "nbformat_minor": 5
}
