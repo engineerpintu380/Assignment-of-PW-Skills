{
 "cells": [
  {
   "cell_type": "markdown",
   "id": "d46d52f0",
   "metadata": {},
   "source": [
    "## Q1. Which keyword is used to create a function? Create a function to return a list of odd numbers in the range of 1 to 25."
   ]
  },
  {
   "cell_type": "markdown",
   "id": "e17999ea",
   "metadata": {},
   "source": [
    "The \"def\" keyword is used to create a function in Python.\n",
    "\n",
    "Here's an example of a function that returns a list of odd numbers in the range of 1 to 25:"
   ]
  },
  {
   "cell_type": "code",
   "execution_count": 2,
   "id": "da7a1734",
   "metadata": {},
   "outputs": [],
   "source": [
    "def get_odd_numbers():\n",
    "    odd_numbers = []\n",
    "    for i in range(1, 26):\n",
    "        if i % 2 == 1:\n",
    "            odd_numbers.append(i)\n",
    "    return odd_numbers\n"
   ]
  },
  {
   "cell_type": "code",
   "execution_count": 4,
   "id": "0d5fc153",
   "metadata": {},
   "outputs": [
    {
     "data": {
      "text/plain": [
       "[1, 3, 5, 7, 9, 11, 13, 15, 17, 19, 21, 23, 25]"
      ]
     },
     "execution_count": 4,
     "metadata": {},
     "output_type": "execute_result"
    }
   ],
   "source": [
    "get_odd_numbers()"
   ]
  },
  {
   "cell_type": "markdown",
   "id": "84e741de",
   "metadata": {},
   "source": [
    "## Q2. Why *args and ***kwargs is used in some functions? Create a function each for *args and ***kwargs to demonstrate their use."
   ]
  },
  {
   "cell_type": "markdown",
   "id": "c09e3b26",
   "metadata": {},
   "source": [
    "*args and **kwargs are used in some functions to allow for a flexible number of arguments to be passed into the function.\n",
    "\n",
    "*args is used to pass a variable number of non-keyword arguments into a function. It allows you to pass any number of arguments to a function, separated by commas, and the arguments are then passed to the function as a tuple.\n",
    "\n",
    "Here's an example function that uses *args:"
   ]
  },
  {
   "cell_type": "code",
   "execution_count": 11,
   "id": "29bc4311",
   "metadata": {},
   "outputs": [],
   "source": [
    "def multiply(*args):\n",
    "    result = 1\n",
    "    for num in args:\n",
    "        result *= num\n",
    "    return result"
   ]
  },
  {
   "cell_type": "markdown",
   "id": "19e784f8",
   "metadata": {},
   "source": [
    "In this function, *args allows us to pass any number of arguments to the function. The function then multiplies all of the arguments together and returns the result."
   ]
  },
  {
   "cell_type": "code",
   "execution_count": 12,
   "id": "addc58f8",
   "metadata": {},
   "outputs": [
    {
     "name": "stdout",
     "output_type": "stream",
     "text": [
      "24\n"
     ]
    }
   ],
   "source": [
    "\"\"\"Here's an example usage of the function:\"\"\"\n",
    "print(multiply(2, 3, 4))\n"
   ]
  },
  {
   "cell_type": "markdown",
   "id": "2aa5b144",
   "metadata": {},
   "source": [
    "**kwargs is used to pass a variable number of keyword arguments into a function. It allows you to pass any number of keyword arguments to a function, and the arguments are then passed to the function as a dictionary.\n",
    "\n",
    "Here's an example function that uses **kwargs:"
   ]
  },
  {
   "cell_type": "code",
   "execution_count": 16,
   "id": "883c7ff2",
   "metadata": {},
   "outputs": [],
   "source": [
    "def display_info(**kwargs):\n",
    "    for key, value in kwargs.items():\n",
    "        print(f'{key}: {value}')\n"
   ]
  },
  {
   "cell_type": "markdown",
   "id": "3d7cd2db",
   "metadata": {},
   "source": [
    "In this function, **kwargs allows us to pass any number of keyword arguments to the function. The function then prints out the key-value pairs of each argument.\n",
    "\n",
    "Here's an example usage of the function:"
   ]
  },
  {
   "cell_type": "code",
   "execution_count": 17,
   "id": "885bfc3f",
   "metadata": {},
   "outputs": [
    {
     "name": "stdout",
     "output_type": "stream",
     "text": [
      "name: John\n",
      "age: 30\n",
      "country: USA\n"
     ]
    }
   ],
   "source": [
    "display_info(name='John', age=30, country='USA')\n"
   ]
  },
  {
   "cell_type": "markdown",
   "id": "1a533cf7",
   "metadata": {},
   "source": [
    "## Q3. What is an iterator in python? Name the method used to initialise the iterator object and the methodused for iteration. Use these methods to print the first five elements of the given list [2, 4, 6, 8, 10, 12, 14, 16,18, 20]."
   ]
  },
  {
   "cell_type": "markdown",
   "id": "19248726",
   "metadata": {},
   "source": [
    "In Python, an iterator is an object that can be iterated (looped) upon, which means you can traverse through all the elements of an iterable object using an iterator.\n",
    "\n",
    "To create an iterator object, we use the iter() function in Python, which takes an iterable as an argument and returns an iterator object.\n",
    "\n",
    "Once we have an iterator object, we can use the next() method to iterate over the elements of the iterator until there are no more elements left.\n",
    "\n",
    "Here is an example code to print the first five elements of the given list using an iterator:"
   ]
  },
  {
   "cell_type": "code",
   "execution_count": 19,
   "id": "01f9f107",
   "metadata": {},
   "outputs": [
    {
     "name": "stdout",
     "output_type": "stream",
     "text": [
      "2\n",
      "4\n",
      "6\n",
      "8\n",
      "10\n"
     ]
    }
   ],
   "source": [
    "lst = [2, 4, 6, 8, 10, 12, 14, 16, 18, 20]\n",
    "\n",
    "# creating an iterator object\n",
    "it = iter(lst)\n",
    "\n",
    "# iterating over the first five elements using next() method\n",
    "for i in range(5):\n",
    "    print(next(it))\n"
   ]
  },
  {
   "cell_type": "markdown",
   "id": "ca8c26c1",
   "metadata": {},
   "source": [
    "In the code above, we first create an iterator object it by calling the iter() function on the list lst. Then, we use a for loop to iterate over the first five elements of the iterator using the next() method and print them. Note that once we have iterated over all the elements, calling next() on the iterator will raise a StopIteration exception.`"
   ]
  },
  {
   "cell_type": "markdown",
   "id": "0feceef9",
   "metadata": {},
   "source": [
    "## Q4. What is a generator function in python? Why yield keyword is used? Give an example of a generator function."
   ]
  },
  {
   "cell_type": "markdown",
   "id": "3914151f",
   "metadata": {},
   "source": [
    "In Python, a generator function is a special type of function that generates a sequence of values using the yield keyword instead of return. Unlike regular functions, generator functions do not return a value and instead generate a series of values that can be iterated over using a for loop or the next() function.\n",
    "\n",
    "When a generator function is called, it returns a generator object that can be used to iterate over the values generated by the function. The generator function does not generate all the values at once, but instead generates one value at a time, which helps to conserve memory and improve performance when working with large data sets.\n",
    "\n",
    "The yield keyword is used to yield a value from the generator function. When the yield keyword is encountered, the function's state is saved, and the yielded value is returned. The next time the generator function is called, it resumes execution from where it left off and continues generating values until there are no more values to generate.\n",
    "\n",
    "\n",
    "Here's an example of a generator function that generates the first n Fibonacci numbers:"
   ]
  },
  {
   "cell_type": "code",
   "execution_count": 20,
   "id": "41af5d2d",
   "metadata": {},
   "outputs": [],
   "source": [
    "def fibonacci(n):\n",
    "    a, b = 0, 1\n",
    "    for _ in range(n):\n",
    "        yield a\n",
    "        a, b = b, a + b\n"
   ]
  },
  {
   "cell_type": "markdown",
   "id": "4294f330",
   "metadata": {},
   "source": [
    "In the code above, the fibonacci() function is defined as a generator function using the yield keyword. It takes an integer n as input and generates the first n Fibonacci numbers using a for loop.\n",
    "\n",
    "When the yield keyword is encountered in the loop, it yields the current value of a to the caller and saves the function's state. The next time the function is called, it resumes execution from where it left off, calculates the next value of a and yields it. This process continues until the loop completes and there are no more values to generate.\n",
    "\n",
    "To use the fibonacci() generator function, we can call it and iterate over the values it generates like this:"
   ]
  },
  {
   "cell_type": "code",
   "execution_count": 21,
   "id": "4dd88b5d",
   "metadata": {},
   "outputs": [
    {
     "name": "stdout",
     "output_type": "stream",
     "text": [
      "0\n",
      "1\n",
      "1\n",
      "2\n",
      "3\n",
      "5\n",
      "8\n",
      "13\n",
      "21\n",
      "34\n"
     ]
    }
   ],
   "source": [
    "for num in fibonacci(10):\n",
    "    print(num)\n"
   ]
  },
  {
   "cell_type": "markdown",
   "id": "b46425c7",
   "metadata": {},
   "source": [
    "## Q5. Create a generator function for prime numbers less than 1000. Use the next() method to print the first 20 prime numbers."
   ]
  },
  {
   "cell_type": "code",
   "execution_count": 23,
   "id": "8fd554a1",
   "metadata": {},
   "outputs": [],
   "source": [
    "def primes():\n",
    "    num = 2\n",
    "    while num < 1000:\n",
    "        if all(num % i != 0 for i in range(2, int(num ** 0.5) + 1)):\n",
    "            yield num\n",
    "        num += 1\n"
   ]
  },
  {
   "cell_type": "markdown",
   "id": "3ed4b25b",
   "metadata": {},
   "source": [
    "In the code above, the primes() function is defined as a generator function that generates prime numbers less than 1000. It starts with the first prime number, 2, and iterates over all numbers less than 1000.\n",
    "\n",
    "For each number, it checks whether it is prime by dividing it by all numbers between 2 and its square root using the all() function and a generator expression. If the number is prime, it is yielded to the caller using the yield keyword. The next time the function is called, it resumes execution from where it left off and continues generating prime numbers until there are no more prime numbers to generate.\n",
    "\n",
    "To use the primes() generator function, we can call it and iterate over the values it generates using the next() function like this:"
   ]
  },
  {
   "cell_type": "code",
   "execution_count": 24,
   "id": "f4a5106a",
   "metadata": {},
   "outputs": [
    {
     "name": "stdout",
     "output_type": "stream",
     "text": [
      "2\n",
      "3\n",
      "5\n",
      "7\n",
      "11\n",
      "13\n",
      "17\n",
      "19\n",
      "23\n",
      "29\n",
      "31\n",
      "37\n",
      "41\n",
      "43\n",
      "47\n",
      "53\n",
      "59\n",
      "61\n",
      "67\n",
      "71\n"
     ]
    }
   ],
   "source": [
    "primes_gen = primes()\n",
    "\n",
    "for i in range(20):\n",
    "    print(next(primes_gen))\n"
   ]
  },
  {
   "cell_type": "code",
   "execution_count": null,
   "id": "61e84732",
   "metadata": {},
   "outputs": [],
   "source": []
  }
 ],
 "metadata": {
  "kernelspec": {
   "display_name": "Python 3 (ipykernel)",
   "language": "python",
   "name": "python3"
  },
  "language_info": {
   "codemirror_mode": {
    "name": "ipython",
    "version": 3
   },
   "file_extension": ".py",
   "mimetype": "text/x-python",
   "name": "python",
   "nbconvert_exporter": "python",
   "pygments_lexer": "ipython3",
   "version": "3.9.13"
  }
 },
 "nbformat": 4,
 "nbformat_minor": 5
}
