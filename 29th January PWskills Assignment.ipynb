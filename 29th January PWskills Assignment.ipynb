{
 "cells": [
  {
   "cell_type": "markdown",
   "id": "16339767",
   "metadata": {},
   "source": [
    "## 1. Who developed python programming language?"
   ]
  },
  {
   "cell_type": "markdown",
   "id": "6ab4c607",
   "metadata": {},
   "source": [
    "Python was developed by Guido van Rossum in the late 1980s and early 1990s. Guido van Rossum is a Dutch programmer who created Python as a hobby project while working at the Centrum Wiskunde & Informatica (CWI) research institute in the Netherlands. The first version of Python, version 0.9.0, was released in 1991. Since then, Python has grown in popularity and has become one of the most widely used programming languages in the world."
   ]
  },
  {
   "cell_type": "markdown",
   "id": "9963e26f",
   "metadata": {},
   "source": [
    "## 2.which type of programming does Python support?"
   ]
  },
  {
   "cell_type": "markdown",
   "id": "34f95b15",
   "metadata": {},
   "source": [
    "Python is a high-level, interpreted programming language that supports several programming paradigms, including:\n",
    "\n",
    "1. Imperative programming: This is the most common programming paradigm, and it involves giving a set of instructions to the computer to perform specific tasks. Python supports imperative programming through statements, loops, and functions.\n",
    "\n",
    "2. Object-oriented programming (OOP): In OOP, programs are designed using objects that interact with one another to perform specific tasks. Python supports OOP through classes, objects, and methods.\n",
    "\n",
    "3. Functional programming: In functional programming, the focus is on the execution of functions rather than the state of the program. Python supports functional programming through lambda functions, map, filter, and reduce functions.\n",
    "\n",
    "4. Procedural programming: In procedural programming, programs are designed by dividing them into smaller, more manageable sub-programs or procedures. Python supports procedural programming through functions and modules.\n",
    "\n",
    "5. Event-driven programming: In event-driven programming, programs are designed to respond to events such as user input or system messages. Python supports event-driven programming through libraries such as tkinter and pygame.\n",
    "\n",
    "\n",
    "\n",
    "\n"
   ]
  },
  {
   "cell_type": "markdown",
   "id": "7321da91",
   "metadata": {},
   "source": [
    "## 3.Is Python case-sensitive when dealing with identifiers?"
   ]
  },
  {
   "cell_type": "markdown",
   "id": "39db8f97",
   "metadata": {},
   "source": [
    "Yes, Python is a case-sensitive programming language. When dealing with identifiers, Python distinguishes between uppercase and lowercase letters. For example, the variables myVariable, MyVariable, and myvariable are all different identifiers in Python.\n",
    "\n",
    "It is important to note that Python's case-sensitivity applies to all identifiers, including variable names, function names, class names, and module names. Therefore, it is important to be consistent with the capitalization of identifiers throughout your code."
   ]
  },
  {
   "cell_type": "markdown",
   "id": "7b53e891",
   "metadata": {},
   "source": [
    "## 4. What is the correct extension of the Python file?"
   ]
  },
  {
   "cell_type": "markdown",
   "id": "bab2a2fb",
   "metadata": {},
   "source": [
    "The correct extension for Python files is .py. This extension is used to indicate that the file contains Python code. When you save a file with a .py extension, it can be executed using the Python interpreter."
   ]
  },
  {
   "cell_type": "markdown",
   "id": "05ae32df",
   "metadata": {},
   "source": [
    "## 5.Is python code compiled or interpreted?"
   ]
  },
  {
   "cell_type": "markdown",
   "id": "b2f897cf",
   "metadata": {},
   "source": [
    "Python is an interpreted language, which means that it does not need to be compiled before it can be executed. Instead, Python code is executed by an interpreter that reads and executes the code line by line at runtime. This makes it easy to write and test Python code, as you can quickly run it and see the results without having to go through a separate compilation step.\n",
    "\n",
    "However, it's worth noting that Python code can be compiled to bytecode before it's executed by the interpreter. This can improve performance by reducing the amount of work the interpreter has to do each time the code is run. The compiled bytecode can be saved in .pyc files, which the interpreter can load and execute more quickly than the original source code. But this compilation step is done automatically by the interpreter itself, and it's transparent to the user."
   ]
  },
  {
   "cell_type": "markdown",
   "id": "02cec32a",
   "metadata": {},
   "source": [
    "## 6.Name a few blocks of code used to define in Python language?"
   ]
  },
  {
   "cell_type": "markdown",
   "id": "5657dcb4",
   "metadata": {},
   "source": [
    "In Python, there are several types of code blocks that can be used to group statements together. Here are a few examples:\n",
    "\n",
    "1. Functions: A function is a named block of code that can be called repeatedly throughout a program. It typically takes input parameters, performs some operations on them, and returns a result.\n",
    "\n",
    "Example:"
   ]
  },
  {
   "cell_type": "code",
   "execution_count": 10,
   "id": "ef8eae89",
   "metadata": {},
   "outputs": [],
   "source": [
    "def add_numbers(x, y):\n",
    "    return x + y\n"
   ]
  },
  {
   "cell_type": "markdown",
   "id": "01f92472",
   "metadata": {},
   "source": [
    "2. Conditional Statements: Conditional statements are used to control the flow of a program by executing different code blocks based on whether certain conditions are true or false.\n",
    "\n",
    "Example:"
   ]
  },
  {
   "cell_type": "code",
   "execution_count": null,
   "id": "6b1bcf3b",
   "metadata": {},
   "outputs": [],
   "source": [
    "if x > 0:\n",
    "    print(\"x is positive\")\n",
    "else:\n",
    "    print(\"x is not positive\")\n"
   ]
  },
  {
   "cell_type": "markdown",
   "id": "c926eb66",
   "metadata": {},
   "source": [
    "3.Loops: Loops are used to execute a block of code repeatedly until a certain condition is met. There are two types of loops in Python: for loops and while loops.\n",
    "\n",
    "Example:"
   ]
  },
  {
   "cell_type": "code",
   "execution_count": null,
   "id": "d1291b35",
   "metadata": {},
   "outputs": [],
   "source": [
    "for i in range(10):\n",
    "    print(i)\n",
    "\n",
    "while x < 100:\n",
    "    x *= 2\n"
   ]
  },
  {
   "cell_type": "markdown",
   "id": "b6471230",
   "metadata": {},
   "source": [
    "4. Classes: A class is a user-defined data type that can contain both data and methods (functions that operate on that data). Classes are used for object-oriented programming in Python.\n",
    "\n",
    "Example:"
   ]
  },
  {
   "cell_type": "code",
   "execution_count": null,
   "id": "b2321bac",
   "metadata": {},
   "outputs": [],
   "source": [
    "class Rectangle:\n",
    "    def __init__(self, width, height):\n",
    "        self.width = width\n",
    "        self.height = height\n",
    "        \n",
    "    def area(self):\n",
    "        return self.width * self.height\n"
   ]
  },
  {
   "cell_type": "markdown",
   "id": "eb3d4393",
   "metadata": {},
   "source": [
    "These are just a few examples of the types of code blocks that can be defined in Python. There are many other constructs and statements available in Python that can be used to create complex programs."
   ]
  },
  {
   "cell_type": "markdown",
   "id": "71281e31",
   "metadata": {},
   "source": [
    "## 7. State a character used to give a single-line comment in python?"
   ]
  },
  {
   "cell_type": "markdown",
   "id": "37bd6562",
   "metadata": {},
   "source": [
    "o give a single-line comment in Python, you can use the # character. Any text that follows the # symbol on the same line is considered a comment and is ignored by the Python interpreter.\n",
    "\n",
    "Example:"
   ]
  },
  {
   "cell_type": "code",
   "execution_count": 14,
   "id": "72e06ff0",
   "metadata": {},
   "outputs": [
    {
     "name": "stdout",
     "output_type": "stream",
     "text": [
      "Hello, World!\n"
     ]
    }
   ],
   "source": [
    "# This is a single-line comment in Python\n",
    "print(\"Hello, World!\")  # This is another single-line comment\n"
   ]
  },
  {
   "cell_type": "markdown",
   "id": "443aa98a",
   "metadata": {},
   "source": [
    "In the above example, the first line is a single-line comment that explains what the following code does. The second line is a print statement that will output \"Hello, World!\" to the console when the program is executed. The third line is another single-line comment that provides additional information about the print statement."
   ]
  },
  {
   "cell_type": "markdown",
   "id": "c83fe155",
   "metadata": {},
   "source": [
    "## 8.Mention functions which can help us to find the version of Python that we are currently working on?"
   ]
  },
  {
   "cell_type": "markdown",
   "id": "282c6295",
   "metadata": {},
   "source": [
    "In Python, you can use the following functions to find the version of Python that you are currently working on:\n",
    "\n",
    "1.sys.version: This function returns a string containing the version number of Python, as well as additional information about the build and runtime environment.\n",
    "Example:"
   ]
  },
  {
   "cell_type": "code",
   "execution_count": 15,
   "id": "7032cce3",
   "metadata": {},
   "outputs": [
    {
     "name": "stdout",
     "output_type": "stream",
     "text": [
      "3.9.13 (main, Aug 25 2022, 23:51:50) [MSC v.1916 64 bit (AMD64)]\n"
     ]
    }
   ],
   "source": [
    "import sys\n",
    "\n",
    "print(sys.version)\n"
   ]
  },
  {
   "cell_type": "markdown",
   "id": "9d17876b",
   "metadata": {},
   "source": [
    "2.platform.python_version(): This function returns a string containing the version number of Python.\n",
    "Example:"
   ]
  },
  {
   "cell_type": "code",
   "execution_count": 17,
   "id": "333f9976",
   "metadata": {},
   "outputs": [
    {
     "name": "stdout",
     "output_type": "stream",
     "text": [
      "3.9.13\n"
     ]
    }
   ],
   "source": [
    "import platform\n",
    "\n",
    "print(platform.python_version())\n"
   ]
  },
  {
   "cell_type": "markdown",
   "id": "5dd816e6",
   "metadata": {},
   "source": [
    "## 9.Python supports the creation of anonymous functions at runtime, using a construct called______"
   ]
  },
  {
   "cell_type": "markdown",
   "id": "48b77eda",
   "metadata": {},
   "source": [
    "Python supports the creation of anonymous functions at runtime, using a construct called lambda expressions or lambda functions."
   ]
  },
  {
   "cell_type": "markdown",
   "id": "c90ef65a",
   "metadata": {},
   "source": [
    "## 10. What does pip stand for Python?"
   ]
  },
  {
   "cell_type": "markdown",
   "id": "053bb42c",
   "metadata": {},
   "source": [
    "pip stands for \"Pip Installs Packages\". It is a package manager for Python that is used to install and manage third-party libraries or packages that are not part of the Python standard library. It allows Python developers to easily download and install packages from the Python Package Index (PyPI) or other package repositories."
   ]
  },
  {
   "cell_type": "markdown",
   "id": "97158e2e",
   "metadata": {},
   "source": [
    "## 11.Mention a few build-in functions in Python?"
   ]
  },
  {
   "cell_type": "markdown",
   "id": "247fa56e",
   "metadata": {},
   "source": [
    "Sure, here are a few built-in functions in Python:\n",
    "\n",
    "print(): Used to print text or output to the console.\n",
    "\n",
    "len(): Used to get the length of a string, list, tuple, or other iterable.\n",
    "\n",
    "type(): Used to get the data type of a variable or object.\n",
    "\n",
    "range(): Used to generate a range of numbers.\n",
    "\n",
    "input(): Used to get input from the user via the console.\n",
    "\n",
    "int(): Used to convert a string or float to an integer.\n",
    "\n",
    "str(): Used to convert an object to a string.\n",
    "\n",
    "float(): Used to convert a string or integer to a floating-point number.\n",
    "\n",
    "list(): Used to create a new list object from an iterable.\n",
    "\n",
    "dict(): Used to create a new dictionary object.\n",
    "\n",
    "max(): Used to get the maximum value in an iterable.\n",
    "\n",
    "min(): Used to get the minimum value in an iterable.\n",
    "\n",
    "sum(): Used to get the sum of all values in an iterable.\n",
    "\n",
    "sorted(): Used to sort an iterable.\n",
    "\n",
    "abs(): Used to get the absolute value of a number.\n"
   ]
  },
  {
   "cell_type": "markdown",
   "id": "5a3a96c8",
   "metadata": {},
   "source": [
    "## 12.What is the maximum possible length of an identifier in Python?\n",
    "\n"
   ]
  },
  {
   "cell_type": "markdown",
   "id": "0af62cfd",
   "metadata": {},
   "source": [
    "The maximum possible length of an identifier (variable name, function name, etc.) in Python is not defined. In other words, there is no specific limit on how long an identifier can be in Python. However, it is generally recommended to keep identifier names reasonably short and meaningful for readability and maintainability purposes.\n",
    "\n",
    "PEP 8, the official Python style guide, suggests that identifier names should be no longer than 79 characters, and should be written in lowercase letters separated by underscores for readability. However, this is just a convention and not a hard rule.\n",
    "\n",
    "\n",
    "\n"
   ]
  },
  {
   "cell_type": "markdown",
   "id": "a5d71b53",
   "metadata": {},
   "source": [
    "## 13. What are the benefits of using Python?"
   ]
  },
  {
   "cell_type": "markdown",
   "id": "01f04adf",
   "metadata": {},
   "source": [
    "Python has several benefits, some of which include:\n",
    "\n",
    "1. Easy to Learn and Use: Python has a simple and readable syntax, making it easy to learn for beginners. It has a large and supportive community that provides extensive documentation, tutorials, and resources to help users get started.\n",
    "\n",
    "2. Cross-platform Compatibility: Python is a cross-platform language, which means that it can run on different operating systems such as Windows, Linux, and macOS without any modifications.\n",
    "\n",
    "3. Large Standard Library: Python has a large standard library that provides a wide range of modules and functions, making it easier for developers to accomplish tasks such as string processing, file handling, networking, and more without having to write additional code.\n",
    "\n",
    "4. Third-party Libraries and Frameworks: Python has a vast collection of third-party libraries and frameworks that can be used to build a wide range of applications such as web applications, data analysis, machine learning, and more. These libraries and frameworks provide additional functionality and can help speed up development.\n",
    "\n",
    "5. Productivity and Efficiency: Python's simple syntax and high-level programming constructs allow developers to write code more efficiently and with fewer lines of code. It also has excellent support for object-oriented and functional programming paradigms, which can help improve code organization and maintainability.\n",
    "\n",
    "6. Scalability: Python can be used to build scalable applications and handle large amounts of data. It has support for multiprocessing, multithreading, and distributed computing, making it ideal for building high-performance and scalable applications.\n",
    "\n",
    "7. Open-source and Free: Python is an open-source language, which means that it is free to use and distribute. This makes it an attractive choice for developers and organizations looking to reduce costs and avoid vendor lock-in.\n",
    "\n"
   ]
  },
  {
   "cell_type": "markdown",
   "id": "cfe50be3",
   "metadata": {},
   "source": [
    "## 14.How is memory management in Python?"
   ]
  },
  {
   "cell_type": "markdown",
   "id": "a4d62fba",
   "metadata": {},
   "source": [
    "Python memory management is automatic, and it uses a combination of reference counting and garbage collection to manage memory.\n",
    "\n",
    "Reference counting is a technique used by Python to keep track of how many references there are to an object. When an object is created, its reference count is set to one. When another object references the original object, its reference count is incremented by one. When an object is no longer needed, its reference count is decremented by one. When the reference count of an object reaches zero, it means that there are no more references to the object, and it can be safely removed from memory.\n",
    "\n",
    "However, reference counting alone is not enough to handle circular references, where objects reference each other in a loop. To handle this scenario, Python uses a garbage collector that periodically looks for objects that are no longer reachable and removes them from memory.\n",
    "\n",
    "Python also uses a memory manager to manage the allocation and deallocation of memory for objects. The memory manager allocates memory from the operating system when objects are created and frees the memory when objects are deleted.\n",
    "\n",
    "Overall, Python's memory management is designed to be transparent and automatic, making it easy for developers to write code without having to worry about low-level memory management details.\n"
   ]
  },
  {
   "cell_type": "markdown",
   "id": "565e58d6",
   "metadata": {},
   "source": [
    "## 15. How to install Python on windows and set path variables?"
   ]
  },
  {
   "cell_type": "markdown",
   "id": "083ab772",
   "metadata": {},
   "source": [
    "To install Python on Windows and set path variables, follow these steps:\n",
    "\n",
    "Download Python: Go to the Python download page (https://www.python.org/downloads/) and download the latest version of Python for Windows.\n",
    "\n",
    "Run the installer: Once the download is complete, double-click the downloaded file to run the Python installer.\n",
    "\n",
    "Select installation options: In the installation wizard, choose your installation options. Typically, you would choose \"Install now\" and accept the default installation directory. You may also want to select the option to \"Add Python to PATH\".\n",
    "\n",
    "Install Python: Click \"Install\" to begin the installation process.\n",
    "\n",
    "Verify installation: After the installation is complete, open a command prompt and type \"python\" to verify that Python has been installed correctly.\n",
    "\n",
    "Set PATH variables: To set PATH variables for Python, follow these steps:\n",
    "\n",
    "Open the Windows Control Panel and select \"System\".\n",
    "Click \"Advanced system settings\".\n",
    "Click the \"Environment Variables\" button.\n",
    "Under \"System variables\", scroll down and select the \"Path\" variable, then click \"Edit\".\n",
    "Add the path to your Python installation directory to the list of paths. This will typically be something like \"C:\\PythonXX\" (where XX is the version number).\n",
    "Verify PATH variables: Open a new command prompt and type \"python\" again to verify that the PATH variables have been set correctly. You should now be able to run Python from any directory on your system.\n",
    "\n",
    "\n",
    "\n",
    "\n"
   ]
  },
  {
   "cell_type": "markdown",
   "id": "53f22630",
   "metadata": {},
   "source": [
    "## 16. is indentation required in Python?"
   ]
  },
  {
   "cell_type": "markdown",
   "id": "c717947e",
   "metadata": {},
   "source": [
    "Yes, indentation is required in Python. In fact, indentation is a fundamental part of Python's syntax and is used to indicate the structure and nesting of code blocks.\n",
    "\n",
    "Unlike many other programming languages, Python does not use curly braces or other symbols to delimit code blocks. Instead, code blocks in Python are defined by their indentation level. Statements that are indented at the same level are considered to be part of the same code block.\n",
    "\n",
    "For example, in a conditional statement in Python, the block of code that executes when the condition is true is indented under the if statement, like so:"
   ]
  },
  {
   "cell_type": "code",
   "execution_count": null,
   "id": "207a7875",
   "metadata": {},
   "outputs": [],
   "source": [
    "if condition:\n",
    "    # indented code block\n"
   ]
  },
  {
   "cell_type": "markdown",
   "id": "b0eb7c4b",
   "metadata": {},
   "source": [
    "Similarly, in a loop, the block of code that is repeated is indented under the loop statement, like so:"
   ]
  },
  {
   "cell_type": "markdown",
   "id": "9bd3f4f3",
   "metadata": {},
   "source": [
    "for item in iterable:\n",
    "    # indented code block\n"
   ]
  },
  {
   "cell_type": "markdown",
   "id": "bdfdd629",
   "metadata": {},
   "source": [
    "Not adhering to the correct indentation level can result in syntax errors or unexpected behavior in your code. Therefore, it is important to use consistent and appropriate indentation when writing Python code."
   ]
  },
  {
   "cell_type": "code",
   "execution_count": null,
   "id": "8b3f564e",
   "metadata": {},
   "outputs": [],
   "source": []
  }
 ],
 "metadata": {
  "kernelspec": {
   "display_name": "Python 3 (ipykernel)",
   "language": "python",
   "name": "python3"
  },
  "language_info": {
   "codemirror_mode": {
    "name": "ipython",
    "version": 3
   },
   "file_extension": ".py",
   "mimetype": "text/x-python",
   "name": "python",
   "nbconvert_exporter": "python",
   "pygments_lexer": "ipython3",
   "version": "3.9.13"
  }
 },
 "nbformat": 4,
 "nbformat_minor": 5
}
