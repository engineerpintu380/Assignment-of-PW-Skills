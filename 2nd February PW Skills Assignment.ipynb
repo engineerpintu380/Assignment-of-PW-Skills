{
 "cells": [
  {
   "cell_type": "markdown",
   "id": "08128d65",
   "metadata": {},
   "source": [
    "## Q1. What are the characteristics of the tuples? Is tuple immutable?"
   ]
  },
  {
   "cell_type": "markdown",
   "id": "cf635fb7",
   "metadata": {},
   "source": [
    "### In Python, tuples are ordered collections of elements, similar to lists. However, there are a few key differences between tuples and lists:\n",
    "\n",
    "Tuples are immutable: Once a tuple is created, you cannot add or remove elements from it. However, you can access its elements using indexing or slicing.\n",
    "\n",
    "Tuples can contain any type of object: Unlike lists, tuples can contain a mixture of different types of objects, such as numbers, strings, and other tuples.\n",
    "\n",
    "Tuples are often used for heterogeneous data: Because tuples can contain any type of object, they are often used to group together related pieces of data that may not be of the same type, such as a person's name, age, and address.\n",
    "\n",
    "Tuples are often used for function return values: Functions can return tuples to return multiple values at once, and the caller can then unpack the tuple to access each value individually.\n",
    "\n",
    "Overall, the key characteristic of tuples is that they are immutable. Once a tuple is created, its contents cannot be changed.\n",
    "\n",
    "\n",
    "\n",
    "\n"
   ]
  },
  {
   "cell_type": "markdown",
   "id": "3fee65e6",
   "metadata": {},
   "source": [
    "### Q2. What are the two tuple methods in python? Give an example of each method. Give a reason why tuples have only two in-built methods as compared to Lists."
   ]
  },
  {
   "cell_type": "markdown",
   "id": "4183c923",
   "metadata": {},
   "source": [
    "#### Tuples have only two in-built methods as compared to lists because tuples are immutable and cannot be modified once created. In contrast, lists are mutable and support a variety of operations, such as appending, inserting, and removing elements. Since tuples cannot be modified, there is no need for many methods to manipulate them. The two methods that are included are useful for finding information within the tuple."
   ]
  },
  {
   "cell_type": "code",
   "execution_count": 7,
   "id": "66d4921a",
   "metadata": {},
   "outputs": [
    {
     "name": "stdout",
     "output_type": "stream",
     "text": [
      "2\n"
     ]
    }
   ],
   "source": [
    "### 1. count(): This method returns the number of occurrences of a specified value in a tuple.\n",
    "    \n",
    "my_tuple = (1, 2, 3, 4, 3, 5)\n",
    "count_three = my_tuple.count(3)\n",
    "print(count_three)\n"
   ]
  },
  {
   "cell_type": "code",
   "execution_count": 8,
   "id": "9b303b1d",
   "metadata": {},
   "outputs": [
    {
     "name": "stdout",
     "output_type": "stream",
     "text": [
      "2\n"
     ]
    }
   ],
   "source": [
    "### 2. index(): This method returns the index of the first occurrence of a specified value in a tuple.\n",
    "\n",
    "my_tuple = (1, 2, 3, 4, 3, 5)\n",
    "index_three = my_tuple.index(3)\n",
    "print(index_three)\n"
   ]
  },
  {
   "cell_type": "markdown",
   "id": "526a4f70",
   "metadata": {},
   "source": [
    "### Q3. Which collection datatypes in python do not allow duplicate items? Write a code using a set to remove duplicates from the given list.\n",
    "\n",
    "The collection datatypes in Python that do not allow duplicate items are sets and dictionaries.\n",
    "\n",
    "Here's an example code using a set to remove duplicates from a list:"
   ]
  },
  {
   "cell_type": "code",
   "execution_count": 11,
   "id": "1e4c66c2",
   "metadata": {},
   "outputs": [
    {
     "name": "stdout",
     "output_type": "stream",
     "text": [
      "[1, 2, 3, 4]\n"
     ]
    }
   ],
   "source": [
    "my_list = [1, 1, 1, 2, 1, 3, 1, 4, 2, 1, 2, 2, 2, 3, 2, 4, 3, 1, 3, 2, 3, 3, 3, 4, 4, 1, 4, 2, 4, 3, 4, 4]\n",
    "unique_set = set(my_list)\n",
    "new_list = list(unique_set)\n",
    "print(new_list)\n"
   ]
  },
  {
   "cell_type": "markdown",
   "id": "31dba8d6",
   "metadata": {},
   "source": [
    "In the code above, we first define a list my_list with some duplicate items. Then, we create a new set called unique_set by passing my_list as an argument to the set() constructor. Since sets do not allow duplicate items, unique_set only contains the unique items from my_list. Finally, we convert unique_set back to a list using the list() constructor to get a list new_list that contains only the unique items from my_list."
   ]
  },
  {
   "cell_type": "markdown",
   "id": "79a8622f",
   "metadata": {},
   "source": [
    "### Q4. Explain the difference between the union() and update() methods for a set. Give an example of each method.\n",
    "\n",
    "Both union() and update() methods are used to combine two or more sets. However, there is a subtle difference between the two methods:\n",
    "\n",
    "The union() method returns a new set that contains all the unique elements from all the sets being combined. It does not modify the original sets.\n",
    "\n",
    "The update() method, on the other hand, modifies the original set by adding all the unique elements from other sets being combined.\n",
    "\n",
    "Here's an example to illustrate the difference:"
   ]
  },
  {
   "cell_type": "code",
   "execution_count": 13,
   "id": "8f08dc0d",
   "metadata": {},
   "outputs": [
    {
     "name": "stdout",
     "output_type": "stream",
     "text": [
      "{1, 2, 3, 4, 5}\n",
      "{1, 2, 3}\n",
      "{1, 2, 3, 4, 5}\n"
     ]
    }
   ],
   "source": [
    "set1 = {1, 2, 3}\n",
    "set2 = {2, 3, 4}\n",
    "set3 = {3, 4, 5}\n",
    "\n",
    "# Using union()\n",
    "union_set = set1.union(set2, set3)\n",
    "print(union_set)   # Output: {1, 2, 3, 4, 5}\n",
    "print(set1)        # Output: {1, 2, 3} (set1 remains unchanged)\n",
    "\n",
    "# Using update()\n",
    "set1.update(set2, set3)\n",
    "print(set1)        # Output: {1, 2, 3, 4, 5} (set1 is modified by adding elements from set2 and set3)\n"
   ]
  },
  {
   "cell_type": "markdown",
   "id": "f3b168b0",
   "metadata": {},
   "source": [
    "### Q5. What is a dictionary? Give an example. Also, state whether a dictionary is ordered or unordered.\n",
    "\n",
    "A dictionary is a collection of key-value pairs where each key is associated with a value. It is sometimes also referred to as an associative array or a hash map. In Python, dictionaries are defined using curly braces {} and colons : to separate keys and values.\n",
    "\n",
    "Here's an example of a dictionary in Python:"
   ]
  },
  {
   "cell_type": "code",
   "execution_count": 14,
   "id": "37e4c17e",
   "metadata": {},
   "outputs": [],
   "source": [
    "my_dict = {\"apple\": 2, \"banana\": 3, \"orange\": 4}\n"
   ]
  },
  {
   "cell_type": "markdown",
   "id": "6d5856a8",
   "metadata": {},
   "source": [
    "In the above example, my_dict is a dictionary that contains three key-value pairs. The keys are \"apple\", \"banana\", and \"orange\", and the corresponding values are 2, 3, and 4.\n",
    "\n",
    "Dictionaries in Python are unordered. This means that the order in which the key-value pairs are stored is not fixed, and may change whenever the dictionary is modified. However, starting from Python 3.7, dictionaries are guaranteed to maintain the order of insertion. This means that when you insert key-value pairs in a certain order, the dictionary will preserve that order."
   ]
  },
  {
   "cell_type": "markdown",
   "id": "37859478",
   "metadata": {},
   "source": [
    "### Q6. Can we create a nested dictionary? If so, please give an example by creating a simple one-level nested dictionary.\n",
    "\n",
    "Yes, we can create a nested dictionary in Python. A nested dictionary is a dictionary that contains another dictionary as a value for one or more of its keys.\n",
    "\n",
    "Here's an example of a simple one-level nested dictionary in Python:"
   ]
  },
  {
   "cell_type": "code",
   "execution_count": 15,
   "id": "158a0cab",
   "metadata": {},
   "outputs": [],
   "source": [
    "my_dict = {\"fruit\": {\"apple\": 2, \"banana\": 3, \"orange\": 4}}\n"
   ]
  },
  {
   "cell_type": "markdown",
   "id": "7a2a254a",
   "metadata": {},
   "source": [
    "### Q7. Using setdefault() method, create key named topics in the given dictionary and also add the value of\n",
    "the key as this list ['Python', 'Machine Learning’, 'Deep Learning']\n",
    "    dict1 = {'language' : 'Python', 'course': 'Data Science Masters'}"
   ]
  },
  {
   "cell_type": "markdown",
   "id": "0762c880",
   "metadata": {},
   "source": [
    "ANSWER   Sure! Here's an example of how to use the setdefault() method to create a key named topics in the given dict1 dictionary and add a list of values to it:"
   ]
  },
  {
   "cell_type": "code",
   "execution_count": 16,
   "id": "99219edd",
   "metadata": {},
   "outputs": [
    {
     "name": "stdout",
     "output_type": "stream",
     "text": [
      "{'language': 'Python', 'course': 'Data Science Masters', 'topics': ['Python', 'Machine Learning', 'Deep Learning']}\n"
     ]
    }
   ],
   "source": [
    "dict1 = {'language': 'Python', 'course': 'Data Science Masters'}\n",
    "\n",
    "dict1.setdefault('topics', ['Python', 'Machine Learning', 'Deep Learning'])\n",
    "\n",
    "print(dict1)\n"
   ]
  },
  {
   "cell_type": "markdown",
   "id": "3510317c",
   "metadata": {},
   "source": [
    "\"\"Sure! Here's an example of how to use the setdefault() method to create a key named topics in the given dict1 dictionary and add a list of values to it:\n",
    "\n",
    "python\n",
    "Copy code\n",
    "dict1 = {'language': 'Python', 'course': 'Data Science Masters'}\n",
    "\n",
    "dict1.setdefault('topics', ['Python', 'Machine Learning', 'Deep Learning'])\n",
    "\n",
    "print(dict1)\n",
    "The setdefault() method checks whether a key exists in the dictionary or not. If the key is present, it returns the value associated with it. If the key is not present, it adds the key to the dictionary and assigns it the default value provided as the second argument.\n",
    "\n",
    "In the above example, we pass the key topics and a list of topics as the default value to the setdefault() method. If the topics key is not present in the dictionary, it will add it and set its value to the list of topics. If the key is already present, it will return the existing value.\n",
    "\n",
    "The output of the above code will be:{'language': 'Python', 'course': 'Data Science Masters', 'topics': ['Python', 'Machine Learning', 'Deep Learning']}\n"
   ]
  },
  {
   "cell_type": "markdown",
   "id": "898bda78",
   "metadata": {},
   "source": [
    "### Q8. What are the three view objects in dictionaries? Use the three in-built methods in python to display\n",
    "these three view objects for the given dictionary.\n",
    "dict1 = {'Sport': 'Cricket' , 'Teams': ['India', 'Australia', 'England', 'South Africa', 'Sri Lanka', 'New Zealand']}"
   ]
  },
  {
   "cell_type": "markdown",
   "id": "2cdaa4a1",
   "metadata": {},
   "source": [
    "ANS   In Python, dictionaries have three types of view objects:\n",
    "\n",
    "1.dict.keys(): This returns a view object that contains the keys of the dictionary.\n",
    "2.dict.values(): This returns a view object that contains the values of the dictionary.\n",
    "3.dict.items(): This returns a view object that contains the key-value pairs of the dictionary.\n",
    "Here's an example of how to display these three view objects for the given dict1 dictionary:"
   ]
  },
  {
   "cell_type": "code",
   "execution_count": 17,
   "id": "45996917",
   "metadata": {},
   "outputs": [
    {
     "name": "stdout",
     "output_type": "stream",
     "text": [
      "Keys view object: dict_keys(['Sport', 'Teams'])\n",
      "Values view object: dict_values(['Cricket', ['India', 'Australia', 'England', 'South Africa', 'Sri Lanka', 'New Zealand']])\n",
      "Items view object: dict_items([('Sport', 'Cricket'), ('Teams', ['India', 'Australia', 'England', 'South Africa', 'Sri Lanka', 'New Zealand'])])\n"
     ]
    }
   ],
   "source": [
    "dict1 = {'Sport': 'Cricket', 'Teams': ['India', 'Australia', 'England', 'South Africa', 'Sri Lanka', 'New Zealand']}\n",
    "\n",
    "# Get the keys view object and display it\n",
    "keys_view = dict1.keys()\n",
    "print(\"Keys view object:\", keys_view)\n",
    "\n",
    "# Get the values view object and display it\n",
    "values_view = dict1.values()\n",
    "print(\"Values view object:\", values_view)\n",
    "\n",
    "# Get the items view object and display it\n",
    "items_view = dict1.items()\n",
    "print(\"Items view object:\", items_view)\n"
   ]
  },
  {
   "cell_type": "markdown",
   "id": "51e22569",
   "metadata": {},
   "source": [
    "####As you can see, we first created the dict1 dictionary with two key-value pairs. Then, we used the keys(), values(), and items() methods to get the respective view objects and displayed them using the print() function."
   ]
  }
 ],
 "metadata": {
  "kernelspec": {
   "display_name": "Python 3 (ipykernel)",
   "language": "python",
   "name": "python3"
  },
  "language_info": {
   "codemirror_mode": {
    "name": "ipython",
    "version": 3
   },
   "file_extension": ".py",
   "mimetype": "text/x-python",
   "name": "python",
   "nbconvert_exporter": "python",
   "pygments_lexer": "ipython3",
   "version": "3.9.13"
  }
 },
 "nbformat": 4,
 "nbformat_minor": 5
}
